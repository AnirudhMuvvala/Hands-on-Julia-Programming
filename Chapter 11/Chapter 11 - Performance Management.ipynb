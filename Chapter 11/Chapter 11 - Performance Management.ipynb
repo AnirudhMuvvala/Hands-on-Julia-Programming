{
 "cells": [
  {
   "cell_type": "markdown",
   "metadata": {},
   "source": [
    "# Chapter 11: Performance Management\n",
    "This notebook contains the sample source code explained in the book *Hands-On Julia Programming, Sambit Kumar Dash, 2021, bpb Publications. All Rights Reserved*.\n"
   ]
  },
  {
   "cell_type": "code",
   "execution_count": 1,
   "metadata": {},
   "outputs": [
    {
     "name": "stderr",
     "output_type": "stream",
     "text": [
      "\u001b[32m\u001b[1m  Activating\u001b[22m\u001b[39m project at `C:\\Users\\WoU_AI_ML\\Desktop\\Anirudh\\Hands-on-Julia-Programming\\Chapter 11`\n",
      "\u001b[32m\u001b[1m    Updating\u001b[22m\u001b[39m registry at `C:\\Users\\WoU_AI_ML\\.julia\\registries\\General.toml`\n",
      "\u001b[32m\u001b[1m   Installed\u001b[22m\u001b[39m Wayland_protocols_jll ────── v1.25.0+0\n",
      "\u001b[32m\u001b[1m   Installed\u001b[22m\u001b[39m JpegTurbo_jll ────────────── v2.1.2+0\n",
      "\u001b[32m\u001b[1m   Installed\u001b[22m\u001b[39m ColorTypes ───────────────── v0.11.4\n",
      "\u001b[32m\u001b[1m   Installed\u001b[22m\u001b[39m Dbus_jll ─────────────────── v1.12.16+3\n",
      "\u001b[32m\u001b[1m   Installed\u001b[22m\u001b[39m Graphite2_jll ────────────── v1.3.14+0\n",
      "\u001b[32m\u001b[1m   Installed\u001b[22m\u001b[39m Xorg_libXcomposite_jll ───── v0.4.5+4\n",
      "\u001b[32m\u001b[1m   Installed\u001b[22m\u001b[39m iso_codes_jll ────────────── v4.11.0+0\n",
      "\u001b[32m\u001b[1m   Installed\u001b[22m\u001b[39m gdk_pixbuf_jll ───────────── v2.42.8+0\n",
      "\u001b[32m\u001b[1m   Installed\u001b[22m\u001b[39m Pixman_jll ───────────────── v0.40.1+0\n",
      "\u001b[32m\u001b[1m   Installed\u001b[22m\u001b[39m XML2_jll ─────────────────── v2.9.14+0\n",
      "\u001b[32m\u001b[1m   Installed\u001b[22m\u001b[39m Libmount_jll ─────────────── v2.35.0+0\n",
      "\u001b[32m\u001b[1m   Installed\u001b[22m\u001b[39m hicolor_icon_theme_jll ───── v0.17.0+3\n",
      "\u001b[32m\u001b[1m   Installed\u001b[22m\u001b[39m Xorg_libXext_jll ─────────── v1.3.4+4\n",
      "\u001b[32m\u001b[1m   Installed\u001b[22m\u001b[39m LERC_jll ─────────────────── v3.0.0+1\n",
      "\u001b[32m\u001b[1m   Installed\u001b[22m\u001b[39m Pango_jll ────────────────── v1.50.9+0\n",
      "\u001b[32m\u001b[1m   Installed\u001b[22m\u001b[39m Gettext_jll ──────────────── v0.21.0+0\n",
      "\u001b[32m\u001b[1m   Installed\u001b[22m\u001b[39m IntervalSets ─────────────── v0.7.3\n",
      "\u001b[32m\u001b[1m   Installed\u001b[22m\u001b[39m Wayland_jll ──────────────── v1.19.0+0\n",
      "\u001b[32m\u001b[1m   Installed\u001b[22m\u001b[39m Zstd_jll ─────────────────── v1.5.2+0\n",
      "\u001b[32m\u001b[1m   Installed\u001b[22m\u001b[39m at_spi2_atk_jll ──────────── v2.34.1+4\n",
      "\u001b[32m\u001b[1m   Installed\u001b[22m\u001b[39m Xorg_xtrans_jll ──────────── v1.4.0+3\n",
      "\u001b[32m\u001b[1m   Installed\u001b[22m\u001b[39m ATK_jll ──────────────────── v2.36.1+0\n",
      "\u001b[32m\u001b[1m   Installed\u001b[22m\u001b[39m at_spi2_core_jll ─────────── v2.34.0+4\n",
      "\u001b[32m\u001b[1m   Installed\u001b[22m\u001b[39m Expat_jll ────────────────── v2.4.8+0\n",
      "\u001b[32m\u001b[1m   Installed\u001b[22m\u001b[39m IndirectArrays ───────────── v1.0.0\n",
      "\u001b[32m\u001b[1m   Installed\u001b[22m\u001b[39m Bzip2_jll ────────────────── v1.0.8+0\n",
      "\u001b[32m\u001b[1m   Installed\u001b[22m\u001b[39m xkbcommon_jll ────────────── v1.4.1+0\n",
      "\u001b[32m\u001b[1m   Installed\u001b[22m\u001b[39m Xorg_xkbcomp_jll ─────────── v1.4.2+4\n",
      "\u001b[32m\u001b[1m   Installed\u001b[22m\u001b[39m Libgcrypt_jll ────────────── v1.8.7+0\n",
      "\u001b[32m\u001b[1m   Installed\u001b[22m\u001b[39m HarfBuzz_jll ─────────────── v2.8.1+1\n",
      "\u001b[32m\u001b[1m   Installed\u001b[22m\u001b[39m Xorg_xkeyboard_config_jll ── v2.27.0+4\n",
      "\u001b[32m\u001b[1m   Installed\u001b[22m\u001b[39m BenchmarkTools ───────────── v1.3.1\n",
      "\u001b[32m\u001b[1m   Installed\u001b[22m\u001b[39m Xorg_libXrandr_jll ───────── v1.5.2+4\n",
      "\u001b[32m\u001b[1m   Installed\u001b[22m\u001b[39m FixedPointNumbers ────────── v0.8.4\n",
      "\u001b[32m\u001b[1m   Installed\u001b[22m\u001b[39m GTK3_jll ─────────────────── v3.24.31+0\n",
      "\u001b[32m\u001b[1m   Installed\u001b[22m\u001b[39m Libtiff_jll ──────────────── v4.4.0+0\n",
      "\u001b[32m\u001b[1m   Installed\u001b[22m\u001b[39m Xorg_libXfixes_jll ───────── v5.0.3+4\n",
      "\u001b[32m\u001b[1m   Installed\u001b[22m\u001b[39m Libiconv_jll ─────────────── v1.16.1+1\n",
      "\u001b[32m\u001b[1m   Installed\u001b[22m\u001b[39m NaNMath ──────────────────── v1.0.1\n",
      "\u001b[32m\u001b[1m   Installed\u001b[22m\u001b[39m Cairo ────────────────────── v1.0.5\n",
      "\u001b[32m\u001b[1m   Installed\u001b[22m\u001b[39m Libffi_jll ───────────────── v3.2.2+1\n",
      "\u001b[32m\u001b[1m   Installed\u001b[22m\u001b[39m LZO_jll ──────────────────── v2.10.1+0\n",
      "\u001b[32m\u001b[1m   Installed\u001b[22m\u001b[39m AbstractTrees ────────────── v0.4.2\n",
      "\u001b[32m\u001b[1m   Installed\u001b[22m\u001b[39m Xorg_libXrender_jll ──────── v0.9.10+4\n",
      "\u001b[32m\u001b[1m   Installed\u001b[22m\u001b[39m Gtk ──────────────────────── v1.2.2\n",
      "\u001b[32m\u001b[1m   Installed\u001b[22m\u001b[39m Glib_jll ─────────────────── v2.74.0+1\n",
      "\u001b[32m\u001b[1m   Installed\u001b[22m\u001b[39m FriBidi_jll ──────────────── v1.0.10+0\n",
      "\u001b[32m\u001b[1m   Installed\u001b[22m\u001b[39m Libglvnd_jll ─────────────── v1.3.0+3\n",
      "\u001b[32m\u001b[1m   Installed\u001b[22m\u001b[39m Xorg_libpthread_stubs_jll ── v0.1.0+3\n",
      "ERROR: Unexpected end of data : jl_a1g5Gb61qF0V1H9W~\n",
      "\u001b[32m\u001b[1m   Installed\u001b[22m\u001b[39m Xorg_libXi_jll ───────────── v1.7.10+4\n",
      "\u001b[32m\u001b[1m   Installed\u001b[22m\u001b[39m XSLT_jll ─────────────────── v1.1.34+0\n",
      "┌ Warning: failed to extract archive downloaded from https://pkg.julialang.org/package/5789e2e9-d7fb-5bc7-8068-2c6fae9b9549/94f5101b96d2d968ace56f7f2db19d0a5f592e28\n",
      "└ @ Pkg.Operations C:\\buildbot\\worker\\package_win64\\build\\usr\\share\\julia\\stdlib\\v1.8\\Pkg\\src\\Operations.jl:538\n",
      "\u001b[32m\u001b[1m   Installed\u001b[22m\u001b[39m Cairo_jll ────────────────── v1.16.1+1\n",
      "\u001b[32m\u001b[1m   Installed\u001b[22m\u001b[39m adwaita_icon_theme_jll ───── v3.33.92+5\n",
      "\u001b[32m\u001b[1m   Installed\u001b[22m\u001b[39m Reexport ─────────────────── v1.2.2\n",
      "\u001b[32m\u001b[1m   Installed\u001b[22m\u001b[39m Fontconfig_jll ───────────── v2.13.93+0\n",
      "\u001b[32m\u001b[1m   Installed\u001b[22m\u001b[39m Graphics ─────────────────── v1.1.2\n",
      "\u001b[32m\u001b[1m   Installed\u001b[22m\u001b[39m Libepoxy_jll ─────────────── v1.5.8+1\n",
      "\u001b[32m\u001b[1m   Installed\u001b[22m\u001b[39m Libgpg_error_jll ─────────── v1.42.0+0\n",
      "\u001b[32m\u001b[1m   Installed\u001b[22m\u001b[39m Requires ─────────────────── v1.3.0\n",
      "\u001b[32m\u001b[1m   Installed\u001b[22m\u001b[39m Xorg_libxkbfile_jll ──────── v1.1.0+4\n",
      "\u001b[32m\u001b[1m   Installed\u001b[22m\u001b[39m Xorg_libXinerama_jll ─────── v1.1.4+4\n",
      "\u001b[32m\u001b[1m   Installed\u001b[22m\u001b[39m Colors ───────────────────── v0.12.8\n",
      "\u001b[32m\u001b[1m   Installed\u001b[22m\u001b[39m Xorg_libX11_jll ──────────── v1.6.9+4\n",
      "\u001b[32m\u001b[1m   Installed\u001b[22m\u001b[39m LeftChildRightSiblingTrees ─ v0.2.0\n",
      "\u001b[32m\u001b[1m   Installed\u001b[22m\u001b[39m Xorg_libXdmcp_jll ────────── v1.1.3+4\n",
      "\u001b[32m\u001b[1m   Installed\u001b[22m\u001b[39m FreeType2_jll ────────────── v2.10.4+0\n",
      "\u001b[32m\u001b[1m   Installed\u001b[22m\u001b[39m Observables ──────────────── v0.5.2\n",
      "\u001b[32m\u001b[1m   Installed\u001b[22m\u001b[39m Xorg_libXtst_jll ─────────── v1.2.3+4\n",
      "\u001b[32m\u001b[1m   Installed\u001b[22m\u001b[39m ProfileView ──────────────── v1.5.2\n",
      "\u001b[32m\u001b[1m   Installed\u001b[22m\u001b[39m Xorg_libXdamage_jll ──────── v1.1.5+4\n",
      "\u001b[32m\u001b[1m   Installed\u001b[22m\u001b[39m Xorg_libXau_jll ──────────── v1.0.9+4\n",
      "\u001b[32m\u001b[1m   Installed\u001b[22m\u001b[39m MethodAnalysis ───────────── v0.4.10\n",
      "\u001b[32m\u001b[1m   Installed\u001b[22m\u001b[39m Librsvg_jll ──────────────── v2.52.4+0\n",
      "\u001b[32m\u001b[1m   Installed\u001b[22m\u001b[39m Xorg_libXcursor_jll ──────── v1.2.0+4\n",
      "\u001b[32m\u001b[1m   Installed\u001b[22m\u001b[39m RoundingIntegers ─────────── v1.1.0\n",
      "\u001b[32m\u001b[1m   Installed\u001b[22m\u001b[39m Libuuid_jll ──────────────── v2.36.0+0\n",
      "\u001b[32m\u001b[1m   Installed\u001b[22m\u001b[39m Xorg_libxcb_jll ──────────── v1.13.0+3\n",
      "\u001b[32m\u001b[1m   Installed\u001b[22m\u001b[39m libpng_jll ───────────────── v1.6.38+0\n",
      "\u001b[32m\u001b[1m   Installed\u001b[22m\u001b[39m FlameGraphs ──────────────── v1.0.0\n",
      "\u001b[32m\u001b[1m   Installed\u001b[22m\u001b[39m GtkObservables ───────────── v1.2.5\n",
      "\u001b[32m\u001b[1m   Installed\u001b[22m\u001b[39m FileIO ───────────────────── v1.15.0\n",
      "\u001b[32m\u001b[1m    Updating\u001b[22m\u001b[39m `C:\\Users\\WoU_AI_ML\\Desktop\\Anirudh\\Hands-on-Julia-Programming\\Chapter 11\\Project.toml`\n",
      " \u001b[90m [6e4b80f9] \u001b[39m\u001b[92m+ BenchmarkTools v1.3.1\u001b[39m\n",
      " \u001b[90m [7073ff75] \u001b[39m\u001b[92m+ IJulia v1.23.3\u001b[39m\n",
      " \u001b[90m [c46f51b8] \u001b[39m\u001b[92m+ ProfileView v1.5.2\u001b[39m\n",
      "\u001b[32m\u001b[1m    Updating\u001b[22m\u001b[39m `C:\\Users\\WoU_AI_ML\\Desktop\\Anirudh\\Hands-on-Julia-Programming\\Chapter 11\\Manifest.toml`\n",
      " \u001b[90m [1520ce14] \u001b[39m\u001b[92m+ AbstractTrees v0.4.2\u001b[39m\n",
      " \u001b[90m [6e4b80f9] \u001b[39m\u001b[92m+ BenchmarkTools v1.3.1\u001b[39m\n",
      " \u001b[90m [159f3aea] \u001b[39m\u001b[92m+ Cairo v1.0.5\u001b[39m\n",
      " \u001b[90m [3da002f7] \u001b[39m\u001b[92m+ ColorTypes v0.11.4\u001b[39m\n",
      " \u001b[90m [5ae59095] \u001b[39m\u001b[92m+ Colors v0.12.8\u001b[39m\n",
      " \u001b[90m [8f4d0f93] \u001b[39m\u001b[92m+ Conda v1.7.0\u001b[39m\n",
      " \u001b[90m [5789e2e9] \u001b[39m\u001b[92m+ FileIO v1.15.0\u001b[39m\n",
      " \u001b[90m [53c48c17] \u001b[39m\u001b[92m+ FixedPointNumbers v0.8.4\u001b[39m\n",
      " \u001b[90m [08572546] \u001b[39m\u001b[92m+ FlameGraphs v1.0.0\u001b[39m\n",
      " \u001b[90m [a2bd30eb] \u001b[39m\u001b[92m+ Graphics v1.1.2\u001b[39m\n",
      " \u001b[90m [4c0ca9eb] \u001b[39m\u001b[92m+ Gtk v1.2.2\u001b[39m\n",
      " \u001b[90m [8710efd8] \u001b[39m\u001b[92m+ GtkObservables v1.2.5\u001b[39m\n",
      " \u001b[90m [7073ff75] \u001b[39m\u001b[92m+ IJulia v1.23.3\u001b[39m\n",
      " \u001b[90m [9b13fd28] \u001b[39m\u001b[92m+ IndirectArrays v1.0.0\u001b[39m\n",
      " \u001b[90m [8197267c] \u001b[39m\u001b[92m+ IntervalSets v0.7.3\u001b[39m\n",
      " \u001b[90m [692b3bcd] \u001b[39m\u001b[92m+ JLLWrappers v1.4.1\u001b[39m\n",
      " \u001b[90m [682c06a0] \u001b[39m\u001b[92m+ JSON v0.21.3\u001b[39m\n",
      " \u001b[90m [1d6d02ad] \u001b[39m\u001b[92m+ LeftChildRightSiblingTrees v0.2.0\u001b[39m\n",
      " \u001b[90m [739be429] \u001b[39m\u001b[92m+ MbedTLS v1.1.6\u001b[39m\n",
      " \u001b[90m [85b6ec6f] \u001b[39m\u001b[92m+ MethodAnalysis v0.4.10\u001b[39m\n",
      " \u001b[90m [77ba4419] \u001b[39m\u001b[92m+ NaNMath v1.0.1\u001b[39m\n",
      " \u001b[90m [510215fc] \u001b[39m\u001b[92m+ Observables v0.5.2\u001b[39m\n",
      " \u001b[90m [69de0a69] \u001b[39m\u001b[92m+ Parsers v2.4.0\u001b[39m\n",
      " \u001b[90m [21216c6a] \u001b[39m\u001b[92m+ Preferences v1.3.0\u001b[39m\n",
      " \u001b[90m [c46f51b8] \u001b[39m\u001b[92m+ ProfileView v1.5.2\u001b[39m\n",
      " \u001b[90m [189a3867] \u001b[39m\u001b[92m+ Reexport v1.2.2\u001b[39m\n",
      " \u001b[90m [ae029012] \u001b[39m\u001b[92m+ Requires v1.3.0\u001b[39m\n",
      " \u001b[90m [d5f540fe] \u001b[39m\u001b[92m+ RoundingIntegers v1.1.0\u001b[39m\n",
      " \u001b[90m [b85f4697] \u001b[39m\u001b[92m+ SoftGlobalScope v1.1.0\u001b[39m\n",
      " \u001b[90m [81def892] \u001b[39m\u001b[92m+ VersionParsing v1.3.0\u001b[39m\n",
      " \u001b[90m [c2297ded] \u001b[39m\u001b[92m+ ZMQ v1.2.1\u001b[39m\n",
      " \u001b[90m [7b86fcea] \u001b[39m\u001b[92m+ ATK_jll v2.36.1+0\u001b[39m\n",
      " \u001b[90m [6e34b625] \u001b[39m\u001b[92m+ Bzip2_jll v1.0.8+0\u001b[39m\n",
      " \u001b[90m [83423d85] \u001b[39m\u001b[92m+ Cairo_jll v1.16.1+1\u001b[39m\n",
      " \u001b[90m [ee1fde0b] \u001b[39m\u001b[92m+ Dbus_jll v1.12.16+3\u001b[39m\n",
      " \u001b[90m [2e619515] \u001b[39m\u001b[92m+ Expat_jll v2.4.8+0\u001b[39m\n",
      " \u001b[90m [a3f928ae] \u001b[39m\u001b[92m+ Fontconfig_jll v2.13.93+0\u001b[39m\n",
      " \u001b[90m [d7e528f0] \u001b[39m\u001b[92m+ FreeType2_jll v2.10.4+0\u001b[39m\n",
      " \u001b[90m [559328eb] \u001b[39m\u001b[92m+ FriBidi_jll v1.0.10+0\u001b[39m\n",
      " \u001b[90m [77ec8976] \u001b[39m\u001b[92m+ GTK3_jll v3.24.31+0\u001b[39m\n",
      " \u001b[90m [78b55507] \u001b[39m\u001b[92m+ Gettext_jll v0.21.0+0\u001b[39m\n",
      " \u001b[90m [7746bdde] \u001b[39m\u001b[92m+ Glib_jll v2.74.0+1\u001b[39m\n",
      " \u001b[90m [3b182d85] \u001b[39m\u001b[92m+ Graphite2_jll v1.3.14+0\u001b[39m\n",
      " \u001b[90m [2e76f6c2] \u001b[39m\u001b[92m+ HarfBuzz_jll v2.8.1+1\u001b[39m\n",
      " \u001b[90m [aacddb02] \u001b[39m\u001b[92m+ JpegTurbo_jll v2.1.2+0\u001b[39m\n",
      " \u001b[90m [88015f11] \u001b[39m\u001b[92m+ LERC_jll v3.0.0+1\u001b[39m\n",
      " \u001b[90m [dd4b983a] \u001b[39m\u001b[92m+ LZO_jll v2.10.1+0\u001b[39m\n",
      " \u001b[90m [42c93a91] \u001b[39m\u001b[92m+ Libepoxy_jll v1.5.8+1\u001b[39m\n",
      " \u001b[90m [e9f186c6] \u001b[39m\u001b[92m+ Libffi_jll v3.2.2+1\u001b[39m\n",
      " \u001b[90m [d4300ac3] \u001b[39m\u001b[92m+ Libgcrypt_jll v1.8.7+0\u001b[39m\n",
      " \u001b[90m [7e76a0d4] \u001b[39m\u001b[92m+ Libglvnd_jll v1.3.0+3\u001b[39m\n",
      " \u001b[90m [7add5ba3] \u001b[39m\u001b[92m+ Libgpg_error_jll v1.42.0+0\u001b[39m\n",
      " \u001b[90m [94ce4f54] \u001b[39m\u001b[92m+ Libiconv_jll v1.16.1+1\u001b[39m\n",
      " \u001b[90m [4b2f31a3] \u001b[39m\u001b[92m+ Libmount_jll v2.35.0+0\u001b[39m\n",
      " \u001b[90m [925c91fb] \u001b[39m\u001b[92m+ Librsvg_jll v2.52.4+0\u001b[39m\n",
      " \u001b[90m [89763e89] \u001b[39m\u001b[92m+ Libtiff_jll v4.4.0+0\u001b[39m\n",
      " \u001b[90m [38a345b3] \u001b[39m\u001b[92m+ Libuuid_jll v2.36.0+0\u001b[39m\n",
      " \u001b[90m [36c8627f] \u001b[39m\u001b[92m+ Pango_jll v1.50.9+0\u001b[39m\n",
      " \u001b[90m [30392449] \u001b[39m\u001b[92m+ Pixman_jll v0.40.1+0\u001b[39m\n",
      " \u001b[90m [a2964d1f] \u001b[39m\u001b[92m+ Wayland_jll v1.19.0+0\u001b[39m\n",
      " \u001b[90m [2381bf8a] \u001b[39m\u001b[92m+ Wayland_protocols_jll v1.25.0+0\u001b[39m\n",
      " \u001b[90m [02c8fc9c] \u001b[39m\u001b[92m+ XML2_jll v2.9.14+0\u001b[39m\n",
      " \u001b[90m [aed1982a] \u001b[39m\u001b[92m+ XSLT_jll v1.1.34+0\u001b[39m\n",
      " \u001b[90m [4f6342f7] \u001b[39m\u001b[92m+ Xorg_libX11_jll v1.6.9+4\u001b[39m\n",
      " \u001b[90m [0c0b7dd1] \u001b[39m\u001b[92m+ Xorg_libXau_jll v1.0.9+4\u001b[39m\n",
      " \u001b[90m [3c9796d7] \u001b[39m\u001b[92m+ Xorg_libXcomposite_jll v0.4.5+4\u001b[39m\n",
      " \u001b[90m [935fb764] \u001b[39m\u001b[92m+ Xorg_libXcursor_jll v1.2.0+4\u001b[39m\n",
      " \u001b[90m [0aeada51] \u001b[39m\u001b[92m+ Xorg_libXdamage_jll v1.1.5+4\u001b[39m\n",
      " \u001b[90m [a3789734] \u001b[39m\u001b[92m+ Xorg_libXdmcp_jll v1.1.3+4\u001b[39m\n",
      " \u001b[90m [1082639a] \u001b[39m\u001b[92m+ Xorg_libXext_jll v1.3.4+4\u001b[39m\n",
      " \u001b[90m [d091e8ba] \u001b[39m\u001b[92m+ Xorg_libXfixes_jll v5.0.3+4\u001b[39m\n",
      " \u001b[90m [a51aa0fd] \u001b[39m\u001b[92m+ Xorg_libXi_jll v1.7.10+4\u001b[39m\n",
      " \u001b[90m [d1454406] \u001b[39m\u001b[92m+ Xorg_libXinerama_jll v1.1.4+4\u001b[39m\n",
      " \u001b[90m [ec84b674] \u001b[39m\u001b[92m+ Xorg_libXrandr_jll v1.5.2+4\u001b[39m\n",
      " \u001b[90m [ea2f1a96] \u001b[39m\u001b[92m+ Xorg_libXrender_jll v0.9.10+4\u001b[39m\n",
      " \u001b[90m [b6f176f1] \u001b[39m\u001b[92m+ Xorg_libXtst_jll v1.2.3+4\u001b[39m\n",
      " \u001b[90m [14d82f49] \u001b[39m\u001b[92m+ Xorg_libpthread_stubs_jll v0.1.0+3\u001b[39m\n",
      " \u001b[90m [c7cfdc94] \u001b[39m\u001b[92m+ Xorg_libxcb_jll v1.13.0+3\u001b[39m\n",
      " \u001b[90m [cc61e674] \u001b[39m\u001b[92m+ Xorg_libxkbfile_jll v1.1.0+4\u001b[39m\n",
      " \u001b[90m [35661453] \u001b[39m\u001b[92m+ Xorg_xkbcomp_jll v1.4.2+4\u001b[39m\n",
      " \u001b[90m [33bec58e] \u001b[39m\u001b[92m+ Xorg_xkeyboard_config_jll v2.27.0+4\u001b[39m\n",
      " \u001b[90m [c5fb5394] \u001b[39m\u001b[92m+ Xorg_xtrans_jll v1.4.0+3\u001b[39m\n",
      " \u001b[90m [8f1865be] \u001b[39m\u001b[92m+ ZeroMQ_jll v4.3.4+0\u001b[39m\n",
      " \u001b[90m [3161d3a3] \u001b[39m\u001b[92m+ Zstd_jll v1.5.2+0\u001b[39m\n",
      " \u001b[90m [b437f822] \u001b[39m\u001b[92m+ adwaita_icon_theme_jll v3.33.92+5\u001b[39m\n",
      " \u001b[90m [de012916] \u001b[39m\u001b[92m+ at_spi2_atk_jll v2.34.1+4\u001b[39m\n",
      " \u001b[90m [0fc3237b] \u001b[39m\u001b[92m+ at_spi2_core_jll v2.34.0+4\u001b[39m\n",
      " \u001b[90m [da03df04] \u001b[39m\u001b[92m+ gdk_pixbuf_jll v2.42.8+0\u001b[39m\n",
      " \u001b[90m [059c91fe] \u001b[39m\u001b[92m+ hicolor_icon_theme_jll v0.17.0+3\u001b[39m\n",
      " \u001b[90m [bf975903] \u001b[39m\u001b[92m+ iso_codes_jll v4.11.0+0\u001b[39m\n",
      " \u001b[90m [b53b4c65] \u001b[39m\u001b[92m+ libpng_jll v1.6.38+0\u001b[39m\n",
      " \u001b[90m [a9144af2] \u001b[39m\u001b[92m+ libsodium_jll v1.0.20+0\u001b[39m\n",
      " \u001b[90m [d8fb68d0] \u001b[39m\u001b[92m+ xkbcommon_jll v1.4.1+0\u001b[39m\n",
      " \u001b[90m [0dad84c5] \u001b[39m\u001b[92m+ ArgTools v1.1.1\u001b[39m\n",
      " \u001b[90m [56f22d72] \u001b[39m\u001b[92m+ Artifacts\u001b[39m\n",
      " \u001b[90m [2a0f44e3] \u001b[39m\u001b[92m+ Base64\u001b[39m\n",
      " \u001b[90m [ade2ca70] \u001b[39m\u001b[92m+ Dates\u001b[39m\n",
      " \u001b[90m [f43a241f] \u001b[39m\u001b[92m+ Downloads v1.6.0\u001b[39m\n",
      " \u001b[90m [7b1f6079] \u001b[39m\u001b[92m+ FileWatching\u001b[39m\n",
      " \u001b[90m [b77e0a4c] \u001b[39m\u001b[92m+ InteractiveUtils\u001b[39m\n",
      " \u001b[90m [b27032c2] \u001b[39m\u001b[92m+ LibCURL v0.6.3\u001b[39m\n",
      " \u001b[90m [76f85450] \u001b[39m\u001b[92m+ LibGit2\u001b[39m\n",
      " \u001b[90m [8f399da3] \u001b[39m\u001b[92m+ Libdl\u001b[39m\n",
      " \u001b[90m [37e2e46d] \u001b[39m\u001b[92m+ LinearAlgebra\u001b[39m\n",
      " \u001b[90m [56ddb016] \u001b[39m\u001b[92m+ Logging\u001b[39m\n",
      " \u001b[90m [d6f4376e] \u001b[39m\u001b[92m+ Markdown\u001b[39m\n",
      " \u001b[90m [a63ad114] \u001b[39m\u001b[92m+ Mmap\u001b[39m\n",
      " \u001b[90m [ca575930] \u001b[39m\u001b[92m+ NetworkOptions v1.2.0\u001b[39m\n",
      " \u001b[90m [44cfe95a] \u001b[39m\u001b[92m+ Pkg v1.8.0\u001b[39m\n",
      " \u001b[90m [de0858da] \u001b[39m\u001b[92m+ Printf\u001b[39m\n",
      " \u001b[90m [9abbd945] \u001b[39m\u001b[92m+ Profile\u001b[39m\n",
      " \u001b[90m [3fa0cd96] \u001b[39m\u001b[92m+ REPL\u001b[39m\n",
      " \u001b[90m [9a3f8284] \u001b[39m\u001b[92m+ Random\u001b[39m\n",
      " \u001b[90m [ea8e919c] \u001b[39m\u001b[92m+ SHA v0.7.0\u001b[39m\n",
      " \u001b[90m [9e88b42a] \u001b[39m\u001b[92m+ Serialization\u001b[39m\n",
      " \u001b[90m [6462fe0b] \u001b[39m\u001b[92m+ Sockets\u001b[39m\n",
      " \u001b[90m [2f01184e] \u001b[39m\u001b[92m+ SparseArrays\u001b[39m\n",
      " \u001b[90m [10745b16] \u001b[39m\u001b[92m+ Statistics\u001b[39m\n",
      " \u001b[90m [fa267f1f] \u001b[39m\u001b[92m+ TOML v1.0.0\u001b[39m\n",
      " \u001b[90m [a4e569a6] \u001b[39m\u001b[92m+ Tar v1.10.0\u001b[39m\n",
      " \u001b[90m [8dfed614] \u001b[39m\u001b[92m+ Test\u001b[39m\n",
      " \u001b[90m [cf7118a7] \u001b[39m\u001b[92m+ UUIDs\u001b[39m\n",
      " \u001b[90m [4ec0a83e] \u001b[39m\u001b[92m+ Unicode\u001b[39m\n",
      " \u001b[90m [e66e0078] \u001b[39m\u001b[92m+ CompilerSupportLibraries_jll v0.5.2+0\u001b[39m\n",
      " \u001b[90m [deac9b47] \u001b[39m\u001b[92m+ LibCURL_jll v7.84.0+0\u001b[39m\n",
      " \u001b[90m [29816b5a] \u001b[39m\u001b[92m+ LibSSH2_jll v1.10.2+0\u001b[39m\n",
      " \u001b[90m [c8ffd9c3] \u001b[39m\u001b[92m+ MbedTLS_jll v2.28.0+0\u001b[39m\n",
      " \u001b[90m [14a3606d] \u001b[39m\u001b[92m+ MozillaCACerts_jll v2022.2.1\u001b[39m\n",
      " \u001b[90m [4536629a] \u001b[39m\u001b[92m+ OpenBLAS_jll v0.3.20+0\u001b[39m\n",
      " \u001b[90m [05823500] \u001b[39m\u001b[92m+ OpenLibm_jll v0.8.1+0\u001b[39m\n",
      " \u001b[90m [efcefdf7] \u001b[39m\u001b[92m+ PCRE2_jll v10.40.0+0\u001b[39m\n",
      " \u001b[90m [83775a58] \u001b[39m\u001b[92m+ Zlib_jll v1.2.12+3\u001b[39m\n",
      " \u001b[90m [8e850b90] \u001b[39m\u001b[92m+ libblastrampoline_jll v5.1.1+0\u001b[39m\n",
      " \u001b[90m [8e850ede] \u001b[39m\u001b[92m+ nghttp2_jll v1.48.0+0\u001b[39m\n",
      " \u001b[90m [3f19e933] \u001b[39m\u001b[92m+ p7zip_jll v17.4.0+0\u001b[39m\n"
     ]
    }
   ],
   "source": [
    "using Pkg\n",
    "pkg\"activate .\"\n",
    "pkg\"instantiate\""
   ]
  },
  {
   "cell_type": "markdown",
   "metadata": {},
   "source": [
    "## 11.1 Introduction\n",
    "\n",
    "Optimization is an art. There is no absolute general purpose optimization for all the domains. \n",
    "\n",
    "### The Right Level of Optimization\n",
    "\n",
    "Sometimes you need to decide on optimization vs. accuracy trade offs. They can be domain specific. In the example below, we compute the value of `sin θ` by approximating `sin δ` for a small value `δ=15°`. We use the formula\n",
    "```sin (A+B) = sin A cos B + cos A sin B``` to interpolate for 6 angles 15° apart i.e. from 0° to 90°."
   ]
  },
  {
   "cell_type": "code",
   "execution_count": 2,
   "metadata": {},
   "outputs": [
    {
     "data": {
      "text/plain": [
       "(0.2617993877991494, 0.9657305402739953)"
      ]
     },
     "execution_count": 2,
     "metadata": {},
     "output_type": "execute_result"
    }
   ],
   "source": [
    "n = 6\n",
    "δ = pi/180*(90/n)\n",
    "sinδ, cosδ = δ, (1 - δ*δ/2) # <--- Approximation from Taylor's equation"
   ]
  },
  {
   "cell_type": "code",
   "execution_count": 3,
   "metadata": {},
   "outputs": [
    {
     "data": {
      "text/plain": [
       "7×2 Matrix{Float64}:\n",
       " 0.0        1.0\n",
       " 0.261799   0.965731\n",
       " 0.505655   0.864097\n",
       " 0.714547   0.702104\n",
       " 0.87387    0.490976\n",
       " 0.97246    0.245371\n",
       " 1.00337   -0.0176268"
      ]
     },
     "execution_count": 3,
     "metadata": {},
     "output_type": "execute_result"
    }
   ],
   "source": [
    "m = Matrix{Float64}(undef, (n+1, 2))\n",
    "m[1, 1], m[1, 2] = 0.0, 1.0\n",
    "for i = 1:n\n",
    "    m[i+1, 1] = m[i, 1]*cosδ + m[i, 2]*sinδ\n",
    "    m[i+1, 2] = m[i, 2]*cosδ - m[i, 1]*sinδ\n",
    "end\n",
    "m"
   ]
  },
  {
   "cell_type": "markdown",
   "metadata": {},
   "source": [
    "We compare the output obtained earlier with the computation from the Julia functions `sin` and `cos`. "
   ]
  },
  {
   "cell_type": "code",
   "execution_count": 4,
   "metadata": {},
   "outputs": [
    {
     "data": {
      "text/plain": [
       "7×2 Matrix{Float64}:\n",
       " 0.0       1.0\n",
       " 0.258819  0.965926\n",
       " 0.5       0.866025\n",
       " 0.707107  0.707107\n",
       " 0.866025  0.5\n",
       " 0.965926  0.258819\n",
       " 1.0       6.12323e-17"
      ]
     },
     "execution_count": 4,
     "metadata": {},
     "output_type": "execute_result"
    }
   ],
   "source": [
    "m1 = [[sin(i*δ) for i=0:n] [cos(i*δ) for i=0:n]] "
   ]
  },
  {
   "cell_type": "markdown",
   "metadata": {},
   "source": [
    "By comparing the mean and standard deviations of the both the tables, you can realize the approximation is a reasonable one. "
   ]
  },
  {
   "cell_type": "code",
   "execution_count": 5,
   "metadata": {},
   "outputs": [
    {
     "data": {
      "text/plain": [
       "(0.0009570353971457324, 0.00784842483267987)"
      ]
     },
     "execution_count": 5,
     "metadata": {},
     "output_type": "execute_result"
    }
   ],
   "source": [
    "using Statistics\n",
    "mean(m1-m), std(m1-m)"
   ]
  },
  {
   "cell_type": "markdown",
   "metadata": {},
   "source": [
    "### Resources\n",
    "\n",
    "However much resources you have, there will be one problem that will require way beyond the resources you can expend. \n",
    "\n",
    "### The Choice of Algorithm\n",
    "\n",
    "Always use the most effective algorithm for your problem. The most effective algorithm may not be the one with the best asymptotic performance. \n",
    "\n",
    "### Optimize Wisely\n",
    "\n",
    "Optimizing every piece of code is a waste of time and energy. Judiciously choose the code that will give the best returns for the time you spend fixing it. Profiling is a great way to discover such code. \n",
    "\n",
    "### Julia vs. Competition\n",
    "\n",
    "Julia outperforms the competition in many micro-benchmark tests performed. The performance report can be obtained from https://julialang.org/benchmarks/\n",
    "\n",
    "## 11.2 Benchmarking\n",
    "\n",
    "`sin(x)` function assumes the variable `x` is in radians. However, we will use a function `sindeg(x)` where `x` is in degrees. We shall also evaluate if `sin(x)` function available in Julia Base is the one we should use or approximate with a table lookup scheme we discussed. \n",
    "\n",
    "We use `BenchmarkTools` to evaluate the time and space performance of the code. If the package is not installed, you can install the package using the command: ``` julia> ]add BenchmarkTools ```. "
   ]
  },
  {
   "cell_type": "code",
   "execution_count": 6,
   "metadata": {},
   "outputs": [
    {
     "name": "stderr",
     "output_type": "stream",
     "text": [
      "┌ Info: Precompiling BenchmarkTools [6e4b80f9-dd63-53aa-95a3-0cdb28fa8baf]\n",
      "└ @ Base loading.jl:1662\n"
     ]
    }
   ],
   "source": [
    "using BenchmarkTools"
   ]
  },
  {
   "cell_type": "code",
   "execution_count": 7,
   "metadata": {},
   "outputs": [
    {
     "data": {
      "text/plain": [
       "cos ∘ deg2rad"
      ]
     },
     "execution_count": 7,
     "metadata": {},
     "output_type": "execute_result"
    }
   ],
   "source": [
    "deg2rad(x) = pi/180.0*x\n",
    "sindeg = sin ∘ deg2rad\n",
    "cosdeg = cos ∘ deg2rad"
   ]
  },
  {
   "cell_type": "markdown",
   "metadata": {},
   "source": [
    "`@benchmark` shall run the code several times, aggregate the performance over several samples and report the statistics of the result. The minimum time is a better estimate as it is with the least system overheads or noise. "
   ]
  },
  {
   "cell_type": "code",
   "execution_count": 8,
   "metadata": {},
   "outputs": [
    {
     "data": {
      "text/plain": [
       "BenchmarkTools.Trial: 10000 samples with 995 evaluations.\n",
       " Range \u001b[90m(\u001b[39m\u001b[36m\u001b[1mmin\u001b[22m\u001b[39m … \u001b[35mmax\u001b[39m\u001b[90m):  \u001b[39m\u001b[36m\u001b[1m25.628 ns\u001b[22m\u001b[39m … \u001b[35m 1.178 μs\u001b[39m  \u001b[90m┊\u001b[39m GC \u001b[90m(\u001b[39mmin … max\u001b[90m): \u001b[39m0.00% … 96.41%\n",
       " Time  \u001b[90m(\u001b[39m\u001b[34m\u001b[1mmedian\u001b[22m\u001b[39m\u001b[90m):     \u001b[39m\u001b[34m\u001b[1m42.312 ns              \u001b[22m\u001b[39m\u001b[90m┊\u001b[39m GC \u001b[90m(\u001b[39mmedian\u001b[90m):    \u001b[39m0.00%\n",
       " Time  \u001b[90m(\u001b[39m\u001b[32m\u001b[1mmean\u001b[22m\u001b[39m ± \u001b[32mσ\u001b[39m\u001b[90m):   \u001b[39m\u001b[32m\u001b[1m43.328 ns\u001b[22m\u001b[39m ± \u001b[32m18.620 ns\u001b[39m  \u001b[90m┊\u001b[39m GC \u001b[90m(\u001b[39mmean ± σ\u001b[90m):  \u001b[39m0.73% ±  1.66%\n",
       "\n",
       "  \u001b[39m \u001b[39m \u001b[39m \u001b[39m \u001b[39m \u001b[39m \u001b[39m \u001b[39m \u001b[39m \u001b[39m \u001b[39m \u001b[39m \u001b[39m \u001b[39m \u001b[39m \u001b[39m \u001b[39m \u001b[39m \u001b[39m \u001b[39m \u001b[39m \u001b[39m \u001b[39m \u001b[39m \u001b[39m \u001b[39m \u001b[39m \u001b[39m \u001b[39m \u001b[39m \u001b[39m \u001b[39m \u001b[39m▃\u001b[39m▆\u001b[39m▃\u001b[39m█\u001b[39m▆\u001b[39m▅\u001b[34m▅\u001b[39m\u001b[39m▁\u001b[32m \u001b[39m\u001b[39m▁\u001b[39m \u001b[39m \u001b[39m \u001b[39m \u001b[39m \u001b[39m \u001b[39m \u001b[39m \u001b[39m \u001b[39m \u001b[39m \u001b[39m \u001b[39m \u001b[39m \u001b[39m \u001b[39m \u001b[39m \u001b[39m \u001b[39m \n",
       "  \u001b[39m▂\u001b[39m▁\u001b[39m▁\u001b[39m▁\u001b[39m▁\u001b[39m▁\u001b[39m▁\u001b[39m▂\u001b[39m▁\u001b[39m▁\u001b[39m▁\u001b[39m▁\u001b[39m▁\u001b[39m▁\u001b[39m▁\u001b[39m▁\u001b[39m▁\u001b[39m▁\u001b[39m▁\u001b[39m▁\u001b[39m▁\u001b[39m▁\u001b[39m▁\u001b[39m▁\u001b[39m▂\u001b[39m▂\u001b[39m▃\u001b[39m▄\u001b[39m▄\u001b[39m▄\u001b[39m▄\u001b[39m▄\u001b[39m█\u001b[39m█\u001b[39m█\u001b[39m█\u001b[39m█\u001b[39m█\u001b[34m█\u001b[39m\u001b[39m█\u001b[32m█\u001b[39m\u001b[39m█\u001b[39m█\u001b[39m█\u001b[39m▆\u001b[39m▆\u001b[39m▇\u001b[39m▅\u001b[39m▆\u001b[39m▅\u001b[39m▄\u001b[39m▅\u001b[39m▄\u001b[39m▄\u001b[39m▃\u001b[39m▃\u001b[39m▃\u001b[39m▂\u001b[39m▂\u001b[39m \u001b[39m▄\n",
       "  25.6 ns\u001b[90m         Histogram: frequency by time\u001b[39m        51.7 ns \u001b[0m\u001b[1m<\u001b[22m\n",
       "\n",
       " Memory estimate\u001b[90m: \u001b[39m\u001b[33m16 bytes\u001b[39m, allocs estimate\u001b[90m: \u001b[39m\u001b[33m1\u001b[39m."
      ]
     },
     "execution_count": 8,
     "metadata": {},
     "output_type": "execute_result"
    }
   ],
   "source": [
    "@benchmark sindeg(52.0)"
   ]
  },
  {
   "cell_type": "markdown",
   "metadata": {},
   "source": [
    "`@btime` reports the results like `@time`, reporting the allocations and minimum time elapsed in a single function call while running the function over multiple sample runs. We shall be using `@btime` in most of our examples. "
   ]
  },
  {
   "cell_type": "code",
   "execution_count": 9,
   "metadata": {},
   "outputs": [
    {
     "name": "stdout",
     "output_type": "stream",
     "text": [
      "  36.757 ns (1 allocation: 16 bytes)\n"
     ]
    },
    {
     "data": {
      "text/plain": [
       "0.788010753606722"
      ]
     },
     "execution_count": 9,
     "metadata": {},
     "output_type": "execute_result"
    }
   ],
   "source": [
    "@btime sindeg(52.0)"
   ]
  },
  {
   "cell_type": "markdown",
   "metadata": {},
   "source": [
    "We create a memoization lookup with 6 intermediate values from 0 to 90 degrees, each at 15 degrees interval. For values within an interval range we use the `sin(A + δ)` expression with approximated values for `sin δ` and `cos δ` as we have shown earlier. "
   ]
  },
  {
   "cell_type": "code",
   "execution_count": 10,
   "metadata": {},
   "outputs": [
    {
     "data": {
      "text/plain": [
       "step (generic function with 1 method)"
      ]
     },
     "execution_count": 10,
     "metadata": {},
     "output_type": "execute_result"
    }
   ],
   "source": [
    "struct MemoLookup\n",
    "    n\n",
    "    lookup\n",
    "    function MemoLookup(n)   \n",
    "        step = 90/n\n",
    "        δ = pi/180*step\n",
    "        lookup = [[sin(i*δ) for i=0:n] [cos(i*δ) for i=0:n]]\n",
    "        new(n, lookup)\n",
    "    end\n",
    "end\n",
    "step(m::MemoLookup) = 90/m.n"
   ]
  },
  {
   "cell_type": "code",
   "execution_count": 11,
   "metadata": {},
   "outputs": [
    {
     "data": {
      "text/plain": [
       "sindegmemo (generic function with 1 method)"
      ]
     },
     "execution_count": 11,
     "metadata": {},
     "output_type": "execute_result"
    }
   ],
   "source": [
    "m = MemoLookup(6)\n",
    "function sindegmemo(m::MemoLookup, x)\n",
    "    s, lookup = step(m), m.lookup\n",
    "    i = 1\n",
    "    while x >= s\n",
    "        x -= s\n",
    "        i += 1\n",
    "    end\n",
    "    iszero(x) && return lookup[i, 1]\n",
    "    x = deg2rad(x)\n",
    "    sinx, cosx = x, 1 - x*x/2\n",
    "    return lookup[i, 1]*cosx + lookup[i, 2]*sinx\n",
    "end"
   ]
  },
  {
   "cell_type": "code",
   "execution_count": 12,
   "metadata": {},
   "outputs": [
    {
     "data": {
      "text/plain": [
       "BenchmarkTools.Trial: 10000 samples with 269 evaluations.\n",
       " Range \u001b[90m(\u001b[39m\u001b[36m\u001b[1mmin\u001b[22m\u001b[39m … \u001b[35mmax\u001b[39m\u001b[90m):  \u001b[39m\u001b[36m\u001b[1m286.617 ns\u001b[22m\u001b[39m … \u001b[35m  6.286 μs\u001b[39m  \u001b[90m┊\u001b[39m GC \u001b[90m(\u001b[39mmin … max\u001b[90m): \u001b[39m0.00% … 94.83%\n",
       " Time  \u001b[90m(\u001b[39m\u001b[34m\u001b[1mmedian\u001b[22m\u001b[39m\u001b[90m):     \u001b[39m\u001b[34m\u001b[1m306.320 ns               \u001b[22m\u001b[39m\u001b[90m┊\u001b[39m GC \u001b[90m(\u001b[39mmedian\u001b[90m):    \u001b[39m0.00%\n",
       " Time  \u001b[90m(\u001b[39m\u001b[32m\u001b[1mmean\u001b[22m\u001b[39m ± \u001b[32mσ\u001b[39m\u001b[90m):   \u001b[39m\u001b[32m\u001b[1m350.559 ns\u001b[22m\u001b[39m ± \u001b[32m168.092 ns\u001b[39m  \u001b[90m┊\u001b[39m GC \u001b[90m(\u001b[39mmean ± σ\u001b[90m):  \u001b[39m1.31% ±  3.05%\n",
       "\n",
       "  \u001b[39m▅\u001b[39m▅\u001b[39m█\u001b[34m▆\u001b[39m\u001b[39m▃\u001b[39m \u001b[39m \u001b[39m▁\u001b[39m▃\u001b[32m▃\u001b[39m\u001b[39m▂\u001b[39m▁\u001b[39m \u001b[39m \u001b[39m \u001b[39m \u001b[39m \u001b[39m \u001b[39m \u001b[39m \u001b[39m \u001b[39m \u001b[39m \u001b[39m \u001b[39m \u001b[39m \u001b[39m▁\u001b[39m▁\u001b[39m▁\u001b[39m▁\u001b[39m \u001b[39m \u001b[39m \u001b[39m \u001b[39m▁\u001b[39m▁\u001b[39m▂\u001b[39m▁\u001b[39m \u001b[39m \u001b[39m \u001b[39m \u001b[39m \u001b[39m \u001b[39m \u001b[39m \u001b[39m \u001b[39m \u001b[39m \u001b[39m \u001b[39m \u001b[39m \u001b[39m \u001b[39m \u001b[39m \u001b[39m \u001b[39m \u001b[39m \u001b[39m \u001b[39m \u001b[39m \u001b[39m \u001b[39m▁\n",
       "  \u001b[39m█\u001b[39m█\u001b[39m█\u001b[34m█\u001b[39m\u001b[39m█\u001b[39m█\u001b[39m█\u001b[39m█\u001b[39m█\u001b[32m█\u001b[39m\u001b[39m█\u001b[39m█\u001b[39m█\u001b[39m▆\u001b[39m▆\u001b[39m▇\u001b[39m▇\u001b[39m█\u001b[39m█\u001b[39m█\u001b[39m█\u001b[39m█\u001b[39m▇\u001b[39m▇\u001b[39m▇\u001b[39m█\u001b[39m█\u001b[39m█\u001b[39m█\u001b[39m█\u001b[39m█\u001b[39m█\u001b[39m▇\u001b[39m▇\u001b[39m█\u001b[39m█\u001b[39m█\u001b[39m█\u001b[39m█\u001b[39m▇\u001b[39m▆\u001b[39m▅\u001b[39m▇\u001b[39m▆\u001b[39m▅\u001b[39m▅\u001b[39m▄\u001b[39m▃\u001b[39m▄\u001b[39m▄\u001b[39m▄\u001b[39m▄\u001b[39m▄\u001b[39m▄\u001b[39m▃\u001b[39m▄\u001b[39m▄\u001b[39m▄\u001b[39m▅\u001b[39m▅\u001b[39m▆\u001b[39m \u001b[39m█\n",
       "  287 ns\u001b[90m        \u001b[39m\u001b[90mHistogram: \u001b[39m\u001b[90m\u001b[1mlog(\u001b[22m\u001b[39m\u001b[90mfrequency\u001b[39m\u001b[90m\u001b[1m)\u001b[22m\u001b[39m\u001b[90m by time\u001b[39m        742 ns \u001b[0m\u001b[1m<\u001b[22m\n",
       "\n",
       " Memory estimate\u001b[90m: \u001b[39m\u001b[33m208 bytes\u001b[39m, allocs estimate\u001b[90m: \u001b[39m\u001b[33m13\u001b[39m."
      ]
     },
     "execution_count": 12,
     "metadata": {},
     "output_type": "execute_result"
    }
   ],
   "source": [
    "@benchmark sindegmemo($m, 52) "
   ]
  },
  {
   "cell_type": "markdown",
   "metadata": {},
   "source": [
    "The code is slower than what was earlier computed. There are 13 allocations and 208 bytes of additional memory needed for the computation. What can explain such allocations? Frequent yet small chunks of memory allocation can be a significant performance overhead. "
   ]
  },
  {
   "cell_type": "markdown",
   "metadata": {},
   "source": [
    "## 11.3 Code Generation Tools\n",
    "\n",
    "We will look at the ASTs and intermediate code that will be generated to get an understanding of how the code will be processed. These are some of the best ways to debug and fix non-performing code. "
   ]
  },
  {
   "cell_type": "markdown",
   "metadata": {},
   "source": [
    "### Type Stability\n",
    "\n",
    "We discussed about type stability earlier and know that non-deterministic types can lead to inefficient code. Let's evaluate if the code above has types that cannot be inferred deterministically. "
   ]
  },
  {
   "cell_type": "code",
   "execution_count": 13,
   "metadata": {},
   "outputs": [
    {
     "name": "stdout",
     "output_type": "stream",
     "text": [
      "MethodInstance for sindegmemo(::MemoLookup, ::Int64)\n",
      "  from sindegmemo(m::MemoLookup, x) in Main at In[11]:2\n",
      "Arguments\n",
      "  #self#\u001b[36m::Core.Const(sindegmemo)\u001b[39m\n",
      "  m\u001b[36m::MemoLookup\u001b[39m\n",
      "  x@_3\u001b[36m::Int64\u001b[39m\n",
      "Locals\n",
      "  cosx\u001b[91m\u001b[1m::Any\u001b[22m\u001b[39m\n",
      "  sinx\u001b[91m\u001b[1m::Any\u001b[22m\u001b[39m\n",
      "  i\u001b[36m::Int64\u001b[39m\n",
      "  lookup\u001b[91m\u001b[1m::Any\u001b[22m\u001b[39m\n",
      "  s\u001b[91m\u001b[1m::Any\u001b[22m\u001b[39m\n",
      "  x@_9\u001b[91m\u001b[1m::Any\u001b[22m\u001b[39m\n",
      "Body\u001b[91m\u001b[1m::Any\u001b[22m\u001b[39m\n",
      "\u001b[90m1 ─\u001b[39m       (x@_9 = x@_3)\n",
      "\u001b[90m│  \u001b[39m       Core.NewvarNode(:(cosx))\n",
      "\u001b[90m│  \u001b[39m       Core.NewvarNode(:(sinx))\n",
      "\u001b[90m│  \u001b[39m %4  = Main.step(m)\u001b[91m\u001b[1m::Any\u001b[22m\u001b[39m\n",
      "\u001b[90m│  \u001b[39m %5  = Base.getproperty(m, :lookup)\u001b[91m\u001b[1m::Any\u001b[22m\u001b[39m\n",
      "\u001b[90m│  \u001b[39m       (s = %4)\n",
      "\u001b[90m│  \u001b[39m       (lookup = %5)\n",
      "\u001b[90m└──\u001b[39m       (i = 1)\n",
      "\u001b[90m2 ┄\u001b[39m %9  = (x@_9 >= s)\u001b[91m\u001b[1m::Any\u001b[22m\u001b[39m\n",
      "\u001b[90m└──\u001b[39m       goto #4 if not %9\n",
      "\u001b[90m3 ─\u001b[39m       (x@_9 = x@_9 - s)\n",
      "\u001b[90m│  \u001b[39m       (i = i + 1)\n",
      "\u001b[90m└──\u001b[39m       goto #2\n",
      "\u001b[90m4 ─\u001b[39m %14 = Main.iszero(x@_9)\u001b[91m\u001b[1m::Any\u001b[22m\u001b[39m\n",
      "\u001b[90m└──\u001b[39m       goto #6 if not %14\n",
      "\u001b[90m5 ─\u001b[39m %16 = Base.getindex(lookup, i, 1)\u001b[91m\u001b[1m::Any\u001b[22m\u001b[39m\n",
      "\u001b[90m└──\u001b[39m       return %16\n",
      "\u001b[90m6 ─\u001b[39m       (x@_9 = Main.deg2rad(x@_9))\n",
      "\u001b[90m│  \u001b[39m       (sinx = x@_9)\n",
      "\u001b[90m│  \u001b[39m %20 = (x@_9 * x@_9)\u001b[91m\u001b[1m::Any\u001b[22m\u001b[39m\n",
      "\u001b[90m│  \u001b[39m %21 = (%20 / 2)\u001b[91m\u001b[1m::Any\u001b[22m\u001b[39m\n",
      "\u001b[90m│  \u001b[39m %22 = (1 - %21)\u001b[91m\u001b[1m::Any\u001b[22m\u001b[39m\n",
      "\u001b[90m│  \u001b[39m       (cosx = %22)\n",
      "\u001b[90m│  \u001b[39m %24 = Base.getindex(lookup, i, 1)\u001b[91m\u001b[1m::Any\u001b[22m\u001b[39m\n",
      "\u001b[90m│  \u001b[39m %25 = (%24 * cosx)\u001b[91m\u001b[1m::Any\u001b[22m\u001b[39m\n",
      "\u001b[90m│  \u001b[39m %26 = Base.getindex(lookup, i, 2)\u001b[91m\u001b[1m::Any\u001b[22m\u001b[39m\n",
      "\u001b[90m│  \u001b[39m %27 = (%26 * sinx)\u001b[91m\u001b[1m::Any\u001b[22m\u001b[39m\n",
      "\u001b[90m│  \u001b[39m %28 = (%25 + %27)\u001b[91m\u001b[1m::Any\u001b[22m\u001b[39m\n",
      "\u001b[90m└──\u001b[39m       return %28\n",
      "\n"
     ]
    }
   ],
   "source": [
    "@code_warntype sindegmemo(m, 52)"
   ]
  },
  {
   "cell_type": "markdown",
   "metadata": {},
   "source": [
    "There are many variables assigned to the type `Any`. This essentially means there will be an allocation for the location of memory and indirection to actual `Float64` value during computation. We will add a type to the declaration for the parameter `x`. "
   ]
  },
  {
   "cell_type": "code",
   "execution_count": 14,
   "metadata": {},
   "outputs": [
    {
     "data": {
      "text/plain": [
       "sindegmemo (generic function with 2 methods)"
      ]
     },
     "execution_count": 14,
     "metadata": {},
     "output_type": "execute_result"
    }
   ],
   "source": [
    "function sindegmemo(m::MemoLookup, x::Float64)\n",
    "    s, lookup = step(m), m.lookup\n",
    "    i = 1\n",
    "    while x >= s\n",
    "        x -= s\n",
    "        i += 1\n",
    "    end\n",
    "    iszero(x) && return lookup[i, 1]\n",
    "    x = deg2rad(x)\n",
    "    sinx, cosx = x, 1 - x*x/2\n",
    "    return lookup[i, 1]*cosx + lookup[i, 2]*sinx\n",
    "end"
   ]
  },
  {
   "cell_type": "code",
   "execution_count": 15,
   "metadata": {},
   "outputs": [
    {
     "name": "stdout",
     "output_type": "stream",
     "text": [
      "MethodInstance for sindegmemo(::MemoLookup, ::Float64)\n",
      "  from sindegmemo(m::MemoLookup, x::Float64) in Main at In[14]:1\n",
      "Arguments\n",
      "  #self#\u001b[36m::Core.Const(sindegmemo)\u001b[39m\n",
      "  m\u001b[36m::MemoLookup\u001b[39m\n",
      "  x@_3\u001b[36m::Float64\u001b[39m\n",
      "Locals\n",
      "  cosx\u001b[91m\u001b[1m::Any\u001b[22m\u001b[39m\n",
      "  sinx\u001b[91m\u001b[1m::Any\u001b[22m\u001b[39m\n",
      "  i\u001b[36m::Int64\u001b[39m\n",
      "  lookup\u001b[91m\u001b[1m::Any\u001b[22m\u001b[39m\n",
      "  s\u001b[91m\u001b[1m::Any\u001b[22m\u001b[39m\n",
      "  x@_9\u001b[91m\u001b[1m::Any\u001b[22m\u001b[39m\n",
      "Body\u001b[91m\u001b[1m::Any\u001b[22m\u001b[39m\n",
      "\u001b[90m1 ─\u001b[39m       (x@_9 = x@_3)\n",
      "\u001b[90m│  \u001b[39m       Core.NewvarNode(:(cosx))\n",
      "\u001b[90m│  \u001b[39m       Core.NewvarNode(:(sinx))\n",
      "\u001b[90m│  \u001b[39m %4  = Main.step(m)\u001b[91m\u001b[1m::Any\u001b[22m\u001b[39m\n",
      "\u001b[90m│  \u001b[39m %5  = Base.getproperty(m, :lookup)\u001b[91m\u001b[1m::Any\u001b[22m\u001b[39m\n",
      "\u001b[90m│  \u001b[39m       (s = %4)\n",
      "\u001b[90m│  \u001b[39m       (lookup = %5)\n",
      "\u001b[90m└──\u001b[39m       (i = 1)\n",
      "\u001b[90m2 ┄\u001b[39m %9  = (x@_9 >= s)\u001b[91m\u001b[1m::Any\u001b[22m\u001b[39m\n",
      "\u001b[90m└──\u001b[39m       goto #4 if not %9\n",
      "\u001b[90m3 ─\u001b[39m       (x@_9 = x@_9 - s)\n",
      "\u001b[90m│  \u001b[39m       (i = i + 1)\n",
      "\u001b[90m└──\u001b[39m       goto #2\n",
      "\u001b[90m4 ─\u001b[39m %14 = Main.iszero(x@_9)\u001b[91m\u001b[1m::Any\u001b[22m\u001b[39m\n",
      "\u001b[90m└──\u001b[39m       goto #6 if not %14\n",
      "\u001b[90m5 ─\u001b[39m %16 = Base.getindex(lookup, i, 1)\u001b[91m\u001b[1m::Any\u001b[22m\u001b[39m\n",
      "\u001b[90m└──\u001b[39m       return %16\n",
      "\u001b[90m6 ─\u001b[39m       (x@_9 = Main.deg2rad(x@_9))\n",
      "\u001b[90m│  \u001b[39m       (sinx = x@_9)\n",
      "\u001b[90m│  \u001b[39m %20 = (x@_9 * x@_9)\u001b[91m\u001b[1m::Any\u001b[22m\u001b[39m\n",
      "\u001b[90m│  \u001b[39m %21 = (%20 / 2)\u001b[91m\u001b[1m::Any\u001b[22m\u001b[39m\n",
      "\u001b[90m│  \u001b[39m %22 = (1 - %21)\u001b[91m\u001b[1m::Any\u001b[22m\u001b[39m\n",
      "\u001b[90m│  \u001b[39m       (cosx = %22)\n",
      "\u001b[90m│  \u001b[39m %24 = Base.getindex(lookup, i, 1)\u001b[91m\u001b[1m::Any\u001b[22m\u001b[39m\n",
      "\u001b[90m│  \u001b[39m %25 = (%24 * cosx)\u001b[91m\u001b[1m::Any\u001b[22m\u001b[39m\n",
      "\u001b[90m│  \u001b[39m %26 = Base.getindex(lookup, i, 2)\u001b[91m\u001b[1m::Any\u001b[22m\u001b[39m\n",
      "\u001b[90m│  \u001b[39m %27 = (%26 * sinx)\u001b[91m\u001b[1m::Any\u001b[22m\u001b[39m\n",
      "\u001b[90m│  \u001b[39m %28 = (%25 + %27)\u001b[91m\u001b[1m::Any\u001b[22m\u001b[39m\n",
      "\u001b[90m└──\u001b[39m       return %28\n",
      "\n"
     ]
    }
   ],
   "source": [
    "@code_warntype sindegmemo(m, 52.0)"
   ]
  },
  {
   "cell_type": "markdown",
   "metadata": {},
   "source": [
    "A few variables got a deterministic type assignment, yet we have quite a few still assigned with the type `Any`. They are mostly associated with the attribute `lookup` of the `MemoLookup` type. "
   ]
  },
  {
   "cell_type": "code",
   "execution_count": 16,
   "metadata": {},
   "outputs": [
    {
     "data": {
      "text/plain": [
       "step (generic function with 2 methods)"
      ]
     },
     "execution_count": 16,
     "metadata": {},
     "output_type": "execute_result"
    }
   ],
   "source": [
    "struct MemoLookup2\n",
    "    n::Int\n",
    "    lookup::Matrix{Float64}\n",
    "    function MemoLookup2(n)\n",
    "        step = 90/n\n",
    "        δ = pi/180*step\n",
    "        lookup = [[sin(i*δ) for i=0:n] [cos(i*δ) for i=0:n]]\n",
    "        new(n, lookup)\n",
    "    end\n",
    "end\n",
    "step(m::MemoLookup2) = 90/m.n"
   ]
  },
  {
   "cell_type": "code",
   "execution_count": 17,
   "metadata": {},
   "outputs": [
    {
     "data": {
      "text/plain": [
       "sindegmemo (generic function with 3 methods)"
      ]
     },
     "execution_count": 17,
     "metadata": {},
     "output_type": "execute_result"
    }
   ],
   "source": [
    "m2 = MemoLookup2(6)\n",
    "function sindegmemo(m::MemoLookup2, x::Float64)\n",
    "    s, lookup = step(m), m.lookup\n",
    "    i = 1\n",
    "    while x >= s\n",
    "        x -= s\n",
    "        i += 1\n",
    "    end\n",
    "    iszero(x) && return lookup[i, 1]\n",
    "    x = deg2rad(x)\n",
    "    sinx, cosx = x, 1 - x*x/2\n",
    "    return lookup[i, 1]*cosx + lookup[i, 2]*sinx\n",
    "end"
   ]
  },
  {
   "cell_type": "markdown",
   "metadata": {},
   "source": [
    "By eliminating the type ambiguities in the `MemoLookup2` type, we removed all the type ambiguities. "
   ]
  },
  {
   "cell_type": "code",
   "execution_count": 18,
   "metadata": {},
   "outputs": [
    {
     "name": "stdout",
     "output_type": "stream",
     "text": [
      "MethodInstance for sindegmemo(::MemoLookup2, ::Float64)\n",
      "  from sindegmemo(m::MemoLookup2, x::Float64) in Main at In[17]:2\n",
      "Arguments\n",
      "  #self#\u001b[36m::Core.Const(sindegmemo)\u001b[39m\n",
      "  m\u001b[36m::MemoLookup2\u001b[39m\n",
      "  x@_3\u001b[36m::Float64\u001b[39m\n",
      "Locals\n",
      "  cosx\u001b[36m::Float64\u001b[39m\n",
      "  sinx\u001b[36m::Float64\u001b[39m\n",
      "  i\u001b[36m::Int64\u001b[39m\n",
      "  lookup\u001b[36m::Matrix{Float64}\u001b[39m\n",
      "  s\u001b[36m::Float64\u001b[39m\n",
      "  x@_9\u001b[36m::Float64\u001b[39m\n",
      "Body\u001b[36m::Float64\u001b[39m\n",
      "\u001b[90m1 ─\u001b[39m       (x@_9 = x@_3)\n",
      "\u001b[90m│  \u001b[39m       Core.NewvarNode(:(cosx))\n",
      "\u001b[90m│  \u001b[39m       Core.NewvarNode(:(sinx))\n",
      "\u001b[90m│  \u001b[39m %4  = Main.step(m)\u001b[36m::Float64\u001b[39m\n",
      "\u001b[90m│  \u001b[39m %5  = Base.getproperty(m, :lookup)\u001b[36m::Matrix{Float64}\u001b[39m\n",
      "\u001b[90m│  \u001b[39m       (s = %4)\n",
      "\u001b[90m│  \u001b[39m       (lookup = %5)\n",
      "\u001b[90m└──\u001b[39m       (i = 1)\n",
      "\u001b[90m2 ┄\u001b[39m %9  = (x@_9 >= s)\u001b[36m::Bool\u001b[39m\n",
      "\u001b[90m└──\u001b[39m       goto #4 if not %9\n",
      "\u001b[90m3 ─\u001b[39m       (x@_9 = x@_9 - s)\n",
      "\u001b[90m│  \u001b[39m       (i = i + 1)\n",
      "\u001b[90m└──\u001b[39m       goto #2\n",
      "\u001b[90m4 ─\u001b[39m %14 = Main.iszero(x@_9)\u001b[36m::Bool\u001b[39m\n",
      "\u001b[90m└──\u001b[39m       goto #6 if not %14\n",
      "\u001b[90m5 ─\u001b[39m %16 = Base.getindex(lookup, i, 1)\u001b[36m::Float64\u001b[39m\n",
      "\u001b[90m└──\u001b[39m       return %16\n",
      "\u001b[90m6 ─\u001b[39m       (x@_9 = Main.deg2rad(x@_9))\n",
      "\u001b[90m│  \u001b[39m       (sinx = x@_9)\n",
      "\u001b[90m│  \u001b[39m %20 = (x@_9 * x@_9)\u001b[36m::Float64\u001b[39m\n",
      "\u001b[90m│  \u001b[39m %21 = (%20 / 2)\u001b[36m::Float64\u001b[39m\n",
      "\u001b[90m│  \u001b[39m %22 = (1 - %21)\u001b[36m::Float64\u001b[39m\n",
      "\u001b[90m│  \u001b[39m       (cosx = %22)\n",
      "\u001b[90m│  \u001b[39m %24 = Base.getindex(lookup, i, 1)\u001b[36m::Float64\u001b[39m\n",
      "\u001b[90m│  \u001b[39m %25 = (%24 * cosx)\u001b[36m::Float64\u001b[39m\n",
      "\u001b[90m│  \u001b[39m %26 = Base.getindex(lookup, i, 2)\u001b[36m::Float64\u001b[39m\n",
      "\u001b[90m│  \u001b[39m %27 = (%26 * sinx)\u001b[36m::Float64\u001b[39m\n",
      "\u001b[90m│  \u001b[39m %28 = (%25 + %27)\u001b[36m::Float64\u001b[39m\n",
      "\u001b[90m└──\u001b[39m       return %28\n",
      "\n"
     ]
    }
   ],
   "source": [
    "@code_warntype sindegmemo(m2, 52.0)"
   ]
  },
  {
   "cell_type": "markdown",
   "metadata": {},
   "source": [
    "The execution performance has improved and there are no additional allocations."
   ]
  },
  {
   "cell_type": "code",
   "execution_count": 19,
   "metadata": {},
   "outputs": [
    {
     "name": "stdout",
     "output_type": "stream",
     "text": [
      "  11.300 ns (0 allocations: 0 bytes)\n"
     ]
    },
    {
     "data": {
      "text/plain": [
       "0.788218944092369"
      ]
     },
     "execution_count": 19,
     "metadata": {},
     "output_type": "execute_result"
    }
   ],
   "source": [
    "@btime sindegmemo($m2, 52.0)  "
   ]
  },
  {
   "cell_type": "code",
   "execution_count": 20,
   "metadata": {},
   "outputs": [
    {
     "name": "stdout",
     "output_type": "stream",
     "text": [
      "  24.975 ns (1 allocation: 16 bytes)\n"
     ]
    },
    {
     "data": {
      "text/plain": [
       "0.788010753606722"
      ]
     },
     "execution_count": 20,
     "metadata": {},
     "output_type": "execute_result"
    }
   ],
   "source": [
    "@btime sindeg(52.0)"
   ]
  },
  {
   "cell_type": "code",
   "execution_count": 21,
   "metadata": {},
   "outputs": [
    {
     "name": "stdout",
     "output_type": "stream",
     "text": [
      "MethodInstance for (::ComposedFunction{typeof(sin), typeof(deg2rad)})(::Float64)\n",
      "  from (c::ComposedFunction)(x...; kw...) in Base at operators.jl:1030\n",
      "Arguments\n",
      "  c\u001b[36m::Core.Const(sin ∘ deg2rad)\u001b[39m\n",
      "  x\u001b[36m::Tuple{Float64}\u001b[39m\n",
      "Body\u001b[36m::Float64\u001b[39m\n",
      "\u001b[90m1 ─\u001b[39m %1 = Core.NamedTuple()\u001b[36m::Core.Const(NamedTuple())\u001b[39m\n",
      "\u001b[90m│  \u001b[39m %2 = Base.pairs(%1)\u001b[36m::Core.Const(Base.Pairs{Symbol, Union{}, Tuple{}, NamedTuple{(), Tuple{}}}())\u001b[39m\n",
      "\u001b[90m│  \u001b[39m %3 = Core.tuple(%2, c)\u001b[36m::Core.Const((Base.Pairs{Symbol, Union{}, Tuple{}, NamedTuple{(), Tuple{}}}(), sin ∘ deg2rad))\u001b[39m\n",
      "\u001b[90m│  \u001b[39m %4 = Core._apply_iterate(Base.iterate, Base.:(var\"#_#95\"), %3, x)\u001b[36m::Float64\u001b[39m\n",
      "\u001b[90m└──\u001b[39m      return %4\n",
      "\n"
     ]
    }
   ],
   "source": [
    "@code_warntype sindeg(52.0)"
   ]
  },
  {
   "cell_type": "markdown",
   "metadata": {},
   "source": [
    "`sindeg` is a variable that is assigned an anonymous function. Since the anonymous function has a variable argument, that has to be created in every run as a tuple with the parameter value (52.0 is this case) of the function."
   ]
  },
  {
   "cell_type": "code",
   "execution_count": 22,
   "metadata": {},
   "outputs": [
    {
     "data": {
      "text/plain": [
       "ComposedFunction{typeof(sin), typeof(deg2rad)}"
      ]
     },
     "execution_count": 22,
     "metadata": {},
     "output_type": "execute_result"
    }
   ],
   "source": [
    "typeof(sindeg)"
   ]
  },
  {
   "cell_type": "markdown",
   "metadata": {},
   "source": [
    "We will rewrite as simple function call. "
   ]
  },
  {
   "cell_type": "code",
   "execution_count": 23,
   "metadata": {},
   "outputs": [
    {
     "name": "stdout",
     "output_type": "stream",
     "text": [
      "  1.000 ns (0 allocations: 0 bytes)\n"
     ]
    },
    {
     "data": {
      "text/plain": [
       "0.49999999999999994"
      ]
     },
     "execution_count": 23,
     "metadata": {},
     "output_type": "execute_result"
    }
   ],
   "source": [
    "sindeg2(x) = sin(deg2rad(x))\n",
    "@btime sindeg2(30)"
   ]
  },
  {
   "cell_type": "markdown",
   "metadata": {},
   "source": [
    "The equivalent function call in Julia `sind(x)` has almost similar performance. And we can consider that as a reasonable benchmark for our code. "
   ]
  },
  {
   "cell_type": "code",
   "execution_count": 24,
   "metadata": {},
   "outputs": [
    {
     "name": "stdout",
     "output_type": "stream",
     "text": [
      "  1.000 ns (0 allocations: 0 bytes)\n"
     ]
    },
    {
     "data": {
      "text/plain": [
       "0.5"
      ]
     },
     "execution_count": 24,
     "metadata": {},
     "output_type": "execute_result"
    }
   ],
   "source": [
    "@btime sind(30)"
   ]
  },
  {
   "cell_type": "markdown",
   "metadata": {},
   "source": [
    "`sindegmemo(m2, 52.0)` with 19.25ns elapsed time definitely is off from a reasonable performance. "
   ]
  },
  {
   "cell_type": "code",
   "execution_count": 25,
   "metadata": {},
   "outputs": [
    {
     "data": {
      "text/plain": [
       "MemoLookupP{6}([0.0 1.0; 0.25881904510252074 0.9659258262890683; … ; 0.9659258262890682 0.25881904510252096; 1.0 6.123233995736766e-17])"
      ]
     },
     "execution_count": 25,
     "metadata": {},
     "output_type": "execute_result"
    }
   ],
   "source": [
    "struct MemoLookupP{N}\n",
    "    lookup::Matrix{Float64}\n",
    "    function MemoLookupP{N}() where N\n",
    "        δ = pi/2N\n",
    "        lookup = [[sin(i*δ) for i=0:N] [cos(i*δ) for i=0:N]]\n",
    "        new{N}(lookup)\n",
    "    end\n",
    "end\n",
    "step(m::MemoLookupP{N}) where N = 90.0/N\n",
    "const m3 = MemoLookupP{6}()"
   ]
  },
  {
   "cell_type": "code",
   "execution_count": 26,
   "metadata": {},
   "outputs": [
    {
     "data": {
      "text/plain": [
       "sindegmemo (generic function with 4 methods)"
      ]
     },
     "execution_count": 26,
     "metadata": {},
     "output_type": "execute_result"
    }
   ],
   "source": [
    "function sindegmemo(m::MemoLookupP, x::Float64)\n",
    "    s, lookup = step(m), m.lookup\n",
    "    i = 1\n",
    "    while x >= s\n",
    "        x -= s\n",
    "        i += 1\n",
    "    end\n",
    "    x, sini = deg2rad(x), lookup[i, 1]\n",
    "    iszero(x) && return sini\n",
    "    sinx, cosx, cosi = x, 1 - x*x/2, lookup[i, 2]\n",
    "    return sini*cosx + cosi*sinx\n",
    "end"
   ]
  },
  {
   "cell_type": "markdown",
   "metadata": {},
   "source": [
    "19.2ns to 13ns is a significant improvement but still not close to the `sind(x)` performance. "
   ]
  },
  {
   "cell_type": "code",
   "execution_count": 27,
   "metadata": {},
   "outputs": [
    {
     "name": "stdout",
     "output_type": "stream",
     "text": [
      "  1.800 ns (0 allocations: 0 bytes)\n"
     ]
    },
    {
     "data": {
      "text/plain": [
       "0.8660254037844386"
      ]
     },
     "execution_count": 27,
     "metadata": {},
     "output_type": "execute_result"
    }
   ],
   "source": [
    "@btime sindegmemo(m3, 60.0)"
   ]
  },
  {
   "cell_type": "code",
   "execution_count": 28,
   "metadata": {},
   "outputs": [
    {
     "name": "stdout",
     "output_type": "stream",
     "text": [
      "\u001b[90m;  @ In[26]:1 within `sindegmemo`\u001b[39m\n",
      "\u001b[90m; Function Attrs: uwtable\u001b[39m\n",
      "\u001b[95mdefine\u001b[39m \u001b[36mdouble\u001b[39m \u001b[93m@julia_sindegmemo_4101\u001b[39m\u001b[33m(\u001b[39m\u001b[33m[\u001b[39m\u001b[33m1\u001b[39m \u001b[0mx \u001b[33m{\u001b[39m\u001b[33m}\u001b[39m\u001b[0m*\u001b[33m]\u001b[39m\u001b[0m* \u001b[95mnocapture\u001b[39m \u001b[95mnonnull\u001b[39m \u001b[95mreadonly\u001b[39m \u001b[95malign\u001b[39m \u001b[33m8\u001b[39m \u001b[95mdereferenceable\u001b[39m\u001b[33m(\u001b[39m\u001b[33m8\u001b[39m\u001b[33m)\u001b[39m \u001b[0m%0\u001b[0m, \u001b[36mdouble\u001b[39m \u001b[0m%1\u001b[33m)\u001b[39m \u001b[0m#0 \u001b[33m{\u001b[39m\n",
      "\u001b[91mtop:\u001b[39m\n",
      "\u001b[90m;  @ In[26]:2 within `sindegmemo`\u001b[39m\n",
      "\u001b[90m; ┌ @ Base.jl:38 within `getproperty`\u001b[39m\n",
      "   \u001b[0m%2 \u001b[0m= \u001b[96m\u001b[1mgetelementptr\u001b[22m\u001b[39m \u001b[95minbounds\u001b[39m \u001b[33m[\u001b[39m\u001b[33m1\u001b[39m \u001b[0mx \u001b[33m{\u001b[39m\u001b[33m}\u001b[39m\u001b[0m*\u001b[33m]\u001b[39m\u001b[0m, \u001b[33m[\u001b[39m\u001b[33m1\u001b[39m \u001b[0mx \u001b[33m{\u001b[39m\u001b[33m}\u001b[39m\u001b[0m*\u001b[33m]\u001b[39m\u001b[0m* \u001b[0m%0\u001b[0m, \u001b[36mi64\u001b[39m \u001b[33m0\u001b[39m\u001b[0m, \u001b[36mi64\u001b[39m \u001b[33m0\u001b[39m\n",
      "   \u001b[0m%3 \u001b[0m= \u001b[96m\u001b[1mload\u001b[22m\u001b[39m \u001b[95matomic\u001b[39m \u001b[33m{\u001b[39m\u001b[33m}\u001b[39m\u001b[0m*\u001b[0m, \u001b[33m{\u001b[39m\u001b[33m}\u001b[39m\u001b[0m** \u001b[0m%2 \u001b[95munordered\u001b[39m\u001b[0m, \u001b[95malign\u001b[39m \u001b[33m8\u001b[39m\n",
      "\u001b[90m; └\u001b[39m\n",
      "\u001b[90m;  @ In[26]:4 within `sindegmemo`\u001b[39m\n",
      "\u001b[90m; ┌ @ operators.jl:429 within `>=`\u001b[39m\n",
      "\u001b[90m; │┌ @ float.jl:413 within `<=`\u001b[39m\n",
      "    \u001b[0m%4 \u001b[0m= \u001b[96m\u001b[1mfcmp\u001b[22m\u001b[39m \u001b[96m\u001b[1mult\u001b[22m\u001b[39m \u001b[36mdouble\u001b[39m \u001b[0m%1\u001b[0m, \u001b[33m1.500000e+01\u001b[39m\n",
      "\u001b[90m; └└\u001b[39m\n",
      "  \u001b[96m\u001b[1mbr\u001b[22m\u001b[39m \u001b[36mi1\u001b[39m \u001b[0m%4\u001b[0m, \u001b[36mlabel\u001b[39m \u001b[91m%L9\u001b[39m\u001b[0m, \u001b[36mlabel\u001b[39m \u001b[91m%L6\u001b[39m\n",
      "\n",
      "\u001b[91mL6:\u001b[39m                                               \u001b[90m; preds = %L6, %top\u001b[39m\n",
      "  \u001b[0m%value_phi17 \u001b[0m= \u001b[96m\u001b[1mphi\u001b[22m\u001b[39m \u001b[36mdouble\u001b[39m \u001b[33m[\u001b[39m \u001b[0m%5\u001b[0m, \u001b[91m%L6\u001b[39m \u001b[33m]\u001b[39m\u001b[0m, \u001b[33m[\u001b[39m \u001b[0m%1\u001b[0m, \u001b[91m%top\u001b[39m \u001b[33m]\u001b[39m\n",
      "  \u001b[0m%value_phi6 \u001b[0m= \u001b[96m\u001b[1mphi\u001b[22m\u001b[39m \u001b[36mi64\u001b[39m \u001b[33m[\u001b[39m \u001b[0m%6\u001b[0m, \u001b[91m%L6\u001b[39m \u001b[33m]\u001b[39m\u001b[0m, \u001b[33m[\u001b[39m \u001b[33m1\u001b[39m\u001b[0m, \u001b[91m%top\u001b[39m \u001b[33m]\u001b[39m\n",
      "\u001b[90m;  @ In[26]:5 within `sindegmemo`\u001b[39m\n",
      "\u001b[90m; ┌ @ float.jl:384 within `-`\u001b[39m\n",
      "   \u001b[0m%5 \u001b[0m= \u001b[96m\u001b[1mfadd\u001b[22m\u001b[39m \u001b[36mdouble\u001b[39m \u001b[0m%value_phi17\u001b[0m, \u001b[33m-1.500000e+01\u001b[39m\n",
      "\u001b[90m; └\u001b[39m\n",
      "\u001b[90m;  @ In[26]:6 within `sindegmemo`\u001b[39m\n",
      "\u001b[90m; ┌ @ int.jl:87 within `+`\u001b[39m\n",
      "   \u001b[0m%6 \u001b[0m= \u001b[96m\u001b[1madd\u001b[22m\u001b[39m \u001b[36mi64\u001b[39m \u001b[0m%value_phi6\u001b[0m, \u001b[33m1\u001b[39m\n",
      "\u001b[90m; └\u001b[39m\n",
      "\u001b[90m;  @ In[26]:4 within `sindegmemo`\u001b[39m\n",
      "\u001b[90m; ┌ @ operators.jl:429 within `>=`\u001b[39m\n",
      "\u001b[90m; │┌ @ float.jl:413 within `<=`\u001b[39m\n",
      "    \u001b[0m%7 \u001b[0m= \u001b[96m\u001b[1mfcmp\u001b[22m\u001b[39m \u001b[96m\u001b[1mult\u001b[22m\u001b[39m \u001b[36mdouble\u001b[39m \u001b[0m%5\u001b[0m, \u001b[33m1.500000e+01\u001b[39m\n",
      "\u001b[90m; └└\u001b[39m\n",
      "  \u001b[96m\u001b[1mbr\u001b[22m\u001b[39m \u001b[36mi1\u001b[39m \u001b[0m%7\u001b[0m, \u001b[36mlabel\u001b[39m \u001b[91m%L9\u001b[39m\u001b[0m, \u001b[36mlabel\u001b[39m \u001b[91m%L6\u001b[39m\n",
      "\n",
      "\u001b[91mL9:\u001b[39m                                               \u001b[90m; preds = %L6, %top\u001b[39m\n",
      "  \u001b[0m%value_phi.lcssa \u001b[0m= \u001b[96m\u001b[1mphi\u001b[22m\u001b[39m \u001b[36mi64\u001b[39m \u001b[33m[\u001b[39m \u001b[33m1\u001b[39m\u001b[0m, \u001b[91m%top\u001b[39m \u001b[33m]\u001b[39m\u001b[0m, \u001b[33m[\u001b[39m \u001b[0m%6\u001b[0m, \u001b[91m%L6\u001b[39m \u001b[33m]\u001b[39m\n",
      "  \u001b[0m%value_phi1.lcssa \u001b[0m= \u001b[96m\u001b[1mphi\u001b[22m\u001b[39m \u001b[36mdouble\u001b[39m \u001b[33m[\u001b[39m \u001b[0m%1\u001b[0m, \u001b[91m%top\u001b[39m \u001b[33m]\u001b[39m\u001b[0m, \u001b[33m[\u001b[39m \u001b[0m%5\u001b[0m, \u001b[91m%L6\u001b[39m \u001b[33m]\u001b[39m\n",
      "\u001b[90m;  @ In[26]:8 within `sindegmemo`\u001b[39m\n",
      "\u001b[90m; ┌ @ In[7]:1 within `deg2rad`\u001b[39m\n",
      "\u001b[90m; │┌ @ float.jl:385 within `*`\u001b[39m\n",
      "    \u001b[0m%8 \u001b[0m= \u001b[96m\u001b[1mfmul\u001b[22m\u001b[39m \u001b[36mdouble\u001b[39m \u001b[0m%value_phi1.lcssa\u001b[0m, \u001b[33m0x3F91DF46A2529D39\u001b[39m\n",
      "\u001b[90m; └└\u001b[39m\n",
      "\u001b[90m; ┌ @ array.jl:925 within `getindex`\u001b[39m\n",
      "   \u001b[0m%9 \u001b[0m= \u001b[96m\u001b[1madd\u001b[22m\u001b[39m \u001b[36mi64\u001b[39m \u001b[0m%value_phi.lcssa\u001b[0m, \u001b[33m-1\u001b[39m\n",
      "   \u001b[0m%10 \u001b[0m= \u001b[96m\u001b[1mbitcast\u001b[22m\u001b[39m \u001b[33m{\u001b[39m\u001b[33m}\u001b[39m\u001b[0m* \u001b[0m%3 \u001b[95mto\u001b[39m \u001b[33m{\u001b[39m\u001b[33m}\u001b[39m\u001b[0m**\n",
      "   \u001b[0m%11 \u001b[0m= \u001b[96m\u001b[1mgetelementptr\u001b[22m\u001b[39m \u001b[95minbounds\u001b[39m \u001b[33m{\u001b[39m\u001b[33m}\u001b[39m\u001b[0m*\u001b[0m, \u001b[33m{\u001b[39m\u001b[33m}\u001b[39m\u001b[0m** \u001b[0m%10\u001b[0m, \u001b[36mi64\u001b[39m \u001b[33m3\u001b[39m\n",
      "   \u001b[0m%12 \u001b[0m= \u001b[96m\u001b[1mbitcast\u001b[22m\u001b[39m \u001b[33m{\u001b[39m\u001b[33m}\u001b[39m\u001b[0m** \u001b[0m%11 \u001b[95mto\u001b[39m \u001b[36mi64\u001b[39m\u001b[0m*\n",
      "   \u001b[0m%13 \u001b[0m= \u001b[96m\u001b[1mload\u001b[22m\u001b[39m \u001b[36mi64\u001b[39m\u001b[0m, \u001b[36mi64\u001b[39m\u001b[0m* \u001b[0m%12\u001b[0m, \u001b[95malign\u001b[39m \u001b[33m8\u001b[39m\n",
      "   \u001b[0m%14 \u001b[0m= \u001b[96m\u001b[1micmp\u001b[22m\u001b[39m \u001b[96m\u001b[1mult\u001b[22m\u001b[39m \u001b[36mi64\u001b[39m \u001b[0m%9\u001b[0m, \u001b[0m%13\n",
      "   \u001b[96m\u001b[1mbr\u001b[22m\u001b[39m \u001b[36mi1\u001b[39m \u001b[0m%14\u001b[0m, \u001b[36mlabel\u001b[39m \u001b[91m%ib\u001b[39m\u001b[0m, \u001b[36mlabel\u001b[39m \u001b[91m%oob\u001b[39m\n",
      "\n",
      "\u001b[91mcommon.ret:\u001b[39m                                       \u001b[90m; preds = %idxend4, %idxend\u001b[39m\n",
      "   \u001b[0m%common.ret.op \u001b[0m= \u001b[96m\u001b[1mphi\u001b[22m\u001b[39m \u001b[36mdouble\u001b[39m \u001b[33m[\u001b[39m \u001b[0m%36\u001b[0m, \u001b[91m%idxend4\u001b[39m \u001b[33m]\u001b[39m\u001b[0m, \u001b[33m[\u001b[39m \u001b[0m%23\u001b[0m, \u001b[91m%idxend\u001b[39m \u001b[33m]\u001b[39m\n",
      "\u001b[90m; └\u001b[39m\n",
      "\u001b[90m;  @ In[26] within `sindegmemo`\u001b[39m\n",
      "  \u001b[96m\u001b[1mret\u001b[22m\u001b[39m \u001b[36mdouble\u001b[39m \u001b[0m%common.ret.op\n",
      "\n",
      "\u001b[91mib:\u001b[39m                                               \u001b[90m; preds = %L9\u001b[39m\n",
      "\u001b[90m;  @ In[26]:8 within `sindegmemo`\u001b[39m\n",
      "\u001b[90m; ┌ @ array.jl:925 within `getindex`\u001b[39m\n",
      "   \u001b[0m%15 \u001b[0m= \u001b[96m\u001b[1mgetelementptr\u001b[22m\u001b[39m \u001b[95minbounds\u001b[39m \u001b[33m{\u001b[39m\u001b[33m}\u001b[39m\u001b[0m*\u001b[0m, \u001b[33m{\u001b[39m\u001b[33m}\u001b[39m\u001b[0m** \u001b[0m%10\u001b[0m, \u001b[36mi64\u001b[39m \u001b[33m4\u001b[39m\n",
      "   \u001b[0m%16 \u001b[0m= \u001b[96m\u001b[1mbitcast\u001b[22m\u001b[39m \u001b[33m{\u001b[39m\u001b[33m}\u001b[39m\u001b[0m** \u001b[0m%15 \u001b[95mto\u001b[39m \u001b[36mi64\u001b[39m\u001b[0m*\n",
      "   \u001b[0m%17 \u001b[0m= \u001b[96m\u001b[1mload\u001b[22m\u001b[39m \u001b[36mi64\u001b[39m\u001b[0m, \u001b[36mi64\u001b[39m\u001b[0m* \u001b[0m%16\u001b[0m, \u001b[95malign\u001b[39m \u001b[33m8\u001b[39m\n",
      "   \u001b[0m%.not \u001b[0m= \u001b[96m\u001b[1micmp\u001b[22m\u001b[39m \u001b[96m\u001b[1meq\u001b[22m\u001b[39m \u001b[36mi64\u001b[39m \u001b[0m%17\u001b[0m, \u001b[33m0\u001b[39m\n",
      "   \u001b[96m\u001b[1mbr\u001b[22m\u001b[39m \u001b[36mi1\u001b[39m \u001b[0m%.not\u001b[0m, \u001b[36mlabel\u001b[39m \u001b[91m%oob\u001b[39m\u001b[0m, \u001b[36mlabel\u001b[39m \u001b[91m%idxend\u001b[39m\n",
      "\n",
      "\u001b[91moob:\u001b[39m                                              \u001b[90m; preds = %ib, %L9\u001b[39m\n",
      "   \u001b[0m%18 \u001b[0m= \u001b[96m\u001b[1malloca\u001b[22m\u001b[39m \u001b[33m[\u001b[39m\u001b[33m2\u001b[39m \u001b[0mx \u001b[36mi64\u001b[39m\u001b[33m]\u001b[39m\u001b[0m, \u001b[95malign\u001b[39m \u001b[33m8\u001b[39m\n",
      "   \u001b[0m%.sub \u001b[0m= \u001b[96m\u001b[1mgetelementptr\u001b[22m\u001b[39m \u001b[95minbounds\u001b[39m \u001b[33m[\u001b[39m\u001b[33m2\u001b[39m \u001b[0mx \u001b[36mi64\u001b[39m\u001b[33m]\u001b[39m\u001b[0m, \u001b[33m[\u001b[39m\u001b[33m2\u001b[39m \u001b[0mx \u001b[36mi64\u001b[39m\u001b[33m]\u001b[39m\u001b[0m* \u001b[0m%18\u001b[0m, \u001b[36mi64\u001b[39m \u001b[33m0\u001b[39m\u001b[0m, \u001b[36mi64\u001b[39m \u001b[33m0\u001b[39m\n",
      "   \u001b[96m\u001b[1mstore\u001b[22m\u001b[39m \u001b[36mi64\u001b[39m \u001b[0m%value_phi.lcssa\u001b[0m, \u001b[36mi64\u001b[39m\u001b[0m* \u001b[0m%.sub\u001b[0m, \u001b[95malign\u001b[39m \u001b[33m8\u001b[39m\n",
      "   \u001b[0m%19 \u001b[0m= \u001b[96m\u001b[1mgetelementptr\u001b[22m\u001b[39m \u001b[95minbounds\u001b[39m \u001b[33m[\u001b[39m\u001b[33m2\u001b[39m \u001b[0mx \u001b[36mi64\u001b[39m\u001b[33m]\u001b[39m\u001b[0m, \u001b[33m[\u001b[39m\u001b[33m2\u001b[39m \u001b[0mx \u001b[36mi64\u001b[39m\u001b[33m]\u001b[39m\u001b[0m* \u001b[0m%18\u001b[0m, \u001b[36mi64\u001b[39m \u001b[33m0\u001b[39m\u001b[0m, \u001b[36mi64\u001b[39m \u001b[33m1\u001b[39m\n",
      "   \u001b[96m\u001b[1mstore\u001b[22m\u001b[39m \u001b[36mi64\u001b[39m \u001b[33m1\u001b[39m\u001b[0m, \u001b[36mi64\u001b[39m\u001b[0m* \u001b[0m%19\u001b[0m, \u001b[95malign\u001b[39m \u001b[33m8\u001b[39m\n",
      "   \u001b[96m\u001b[1mcall\u001b[22m\u001b[39m \u001b[36mvoid\u001b[39m \u001b[93m@ijl_bounds_error_ints\u001b[39m\u001b[33m(\u001b[39m\u001b[33m{\u001b[39m\u001b[33m}\u001b[39m\u001b[0m* \u001b[0m%3\u001b[0m, \u001b[36mi64\u001b[39m\u001b[0m* \u001b[95mnonnull\u001b[39m \u001b[0m%.sub\u001b[0m, \u001b[36mi64\u001b[39m \u001b[33m2\u001b[39m\u001b[33m)\u001b[39m\n",
      "   \u001b[96m\u001b[1munreachable\u001b[22m\u001b[39m\n",
      "\n",
      "\u001b[91midxend:\u001b[39m                                           \u001b[90m; preds = %ib\u001b[39m\n",
      "   \u001b[0m%20 \u001b[0m= \u001b[96m\u001b[1mbitcast\u001b[22m\u001b[39m \u001b[33m{\u001b[39m\u001b[33m}\u001b[39m\u001b[0m* \u001b[0m%3 \u001b[95mto\u001b[39m \u001b[36mdouble\u001b[39m\u001b[0m**\n",
      "   \u001b[0m%21 \u001b[0m= \u001b[96m\u001b[1mload\u001b[22m\u001b[39m \u001b[36mdouble\u001b[39m\u001b[0m*\u001b[0m, \u001b[36mdouble\u001b[39m\u001b[0m** \u001b[0m%20\u001b[0m, \u001b[95malign\u001b[39m \u001b[33m8\u001b[39m\n",
      "   \u001b[0m%22 \u001b[0m= \u001b[96m\u001b[1mgetelementptr\u001b[22m\u001b[39m \u001b[95minbounds\u001b[39m \u001b[36mdouble\u001b[39m\u001b[0m, \u001b[36mdouble\u001b[39m\u001b[0m* \u001b[0m%21\u001b[0m, \u001b[36mi64\u001b[39m \u001b[0m%9\n",
      "   \u001b[0m%23 \u001b[0m= \u001b[96m\u001b[1mload\u001b[22m\u001b[39m \u001b[36mdouble\u001b[39m\u001b[0m, \u001b[36mdouble\u001b[39m\u001b[0m* \u001b[0m%22\u001b[0m, \u001b[95malign\u001b[39m \u001b[33m8\u001b[39m\n",
      "\u001b[90m; └\u001b[39m\n",
      "\u001b[90m;  @ In[26]:9 within `sindegmemo`\u001b[39m\n",
      "\u001b[90m; ┌ @ number.jl:42 within `iszero`\u001b[39m\n",
      "\u001b[90m; │┌ @ float.jl:410 within `==`\u001b[39m\n",
      "    \u001b[0m%24 \u001b[0m= \u001b[96m\u001b[1mfcmp\u001b[22m\u001b[39m \u001b[96m\u001b[1mune\u001b[22m\u001b[39m \u001b[36mdouble\u001b[39m \u001b[0m%8\u001b[0m, \u001b[33m0.000000e+00\u001b[39m\n",
      "\u001b[90m; └└\u001b[39m\n",
      "  \u001b[96m\u001b[1mbr\u001b[22m\u001b[39m \u001b[36mi1\u001b[39m \u001b[0m%24\u001b[0m, \u001b[36mlabel\u001b[39m \u001b[91m%ib2\u001b[39m\u001b[0m, \u001b[36mlabel\u001b[39m \u001b[91m%common.ret\u001b[39m\n",
      "\n",
      "\u001b[91mib2:\u001b[39m                                              \u001b[90m; preds = %idxend\u001b[39m\n",
      "\u001b[90m;  @ In[26]:10 within `sindegmemo`\u001b[39m\n",
      "\u001b[90m; ┌ @ array.jl:925 within `getindex`\u001b[39m\n",
      "   \u001b[0m%25 \u001b[0m= \u001b[96m\u001b[1micmp\u001b[22m\u001b[39m \u001b[96m\u001b[1mugt\u001b[22m\u001b[39m \u001b[36mi64\u001b[39m \u001b[0m%17\u001b[0m, \u001b[33m1\u001b[39m\n",
      "   \u001b[96m\u001b[1mbr\u001b[22m\u001b[39m \u001b[36mi1\u001b[39m \u001b[0m%25\u001b[0m, \u001b[36mlabel\u001b[39m \u001b[91m%idxend4\u001b[39m\u001b[0m, \u001b[36mlabel\u001b[39m \u001b[91m%oob3\u001b[39m\n",
      "\n",
      "\u001b[91moob3:\u001b[39m                                             \u001b[90m; preds = %ib2\u001b[39m\n",
      "   \u001b[0m%26 \u001b[0m= \u001b[96m\u001b[1malloca\u001b[22m\u001b[39m \u001b[33m[\u001b[39m\u001b[33m2\u001b[39m \u001b[0mx \u001b[36mi64\u001b[39m\u001b[33m]\u001b[39m\u001b[0m, \u001b[95malign\u001b[39m \u001b[33m8\u001b[39m\n",
      "   \u001b[0m%.sub5 \u001b[0m= \u001b[96m\u001b[1mgetelementptr\u001b[22m\u001b[39m \u001b[95minbounds\u001b[39m \u001b[33m[\u001b[39m\u001b[33m2\u001b[39m \u001b[0mx \u001b[36mi64\u001b[39m\u001b[33m]\u001b[39m\u001b[0m, \u001b[33m[\u001b[39m\u001b[33m2\u001b[39m \u001b[0mx \u001b[36mi64\u001b[39m\u001b[33m]\u001b[39m\u001b[0m* \u001b[0m%26\u001b[0m, \u001b[36mi64\u001b[39m \u001b[33m0\u001b[39m\u001b[0m, \u001b[36mi64\u001b[39m \u001b[33m0\u001b[39m\n",
      "   \u001b[96m\u001b[1mstore\u001b[22m\u001b[39m \u001b[36mi64\u001b[39m \u001b[0m%value_phi.lcssa\u001b[0m, \u001b[36mi64\u001b[39m\u001b[0m* \u001b[0m%.sub5\u001b[0m, \u001b[95malign\u001b[39m \u001b[33m8\u001b[39m\n",
      "   \u001b[0m%27 \u001b[0m= \u001b[96m\u001b[1mgetelementptr\u001b[22m\u001b[39m \u001b[95minbounds\u001b[39m \u001b[33m[\u001b[39m\u001b[33m2\u001b[39m \u001b[0mx \u001b[36mi64\u001b[39m\u001b[33m]\u001b[39m\u001b[0m, \u001b[33m[\u001b[39m\u001b[33m2\u001b[39m \u001b[0mx \u001b[36mi64\u001b[39m\u001b[33m]\u001b[39m\u001b[0m* \u001b[0m%26\u001b[0m, \u001b[36mi64\u001b[39m \u001b[33m0\u001b[39m\u001b[0m, \u001b[36mi64\u001b[39m \u001b[33m1\u001b[39m\n",
      "   \u001b[96m\u001b[1mstore\u001b[22m\u001b[39m \u001b[36mi64\u001b[39m \u001b[33m2\u001b[39m\u001b[0m, \u001b[36mi64\u001b[39m\u001b[0m* \u001b[0m%27\u001b[0m, \u001b[95malign\u001b[39m \u001b[33m8\u001b[39m\n",
      "   \u001b[96m\u001b[1mcall\u001b[22m\u001b[39m \u001b[36mvoid\u001b[39m \u001b[93m@ijl_bounds_error_ints\u001b[39m\u001b[33m(\u001b[39m\u001b[33m{\u001b[39m\u001b[33m}\u001b[39m\u001b[0m* \u001b[0m%3\u001b[0m, \u001b[36mi64\u001b[39m\u001b[0m* \u001b[95mnonnull\u001b[39m \u001b[0m%.sub5\u001b[0m, \u001b[36mi64\u001b[39m \u001b[33m2\u001b[39m\u001b[33m)\u001b[39m\n",
      "   \u001b[96m\u001b[1munreachable\u001b[22m\u001b[39m\n",
      "\n",
      "\u001b[91midxend4:\u001b[39m                                          \u001b[90m; preds = %ib2\u001b[39m\n",
      "\u001b[90m; └\u001b[39m\n",
      "\u001b[90m; ┌ @ float.jl:385 within `*`\u001b[39m\n",
      "   \u001b[0m%28 \u001b[0m= \u001b[96m\u001b[1mfmul\u001b[22m\u001b[39m \u001b[36mdouble\u001b[39m \u001b[0m%8\u001b[0m, \u001b[0m%8\n",
      "\u001b[90m; └\u001b[39m\n",
      "\u001b[90m; ┌ @ promotion.jl:391 within `/` @ float.jl:386\u001b[39m\n",
      "   \u001b[0m%29 \u001b[0m= \u001b[96m\u001b[1mfmul\u001b[22m\u001b[39m \u001b[36mdouble\u001b[39m \u001b[0m%28\u001b[0m, \u001b[33m5.000000e-01\u001b[39m\n",
      "\u001b[90m; └\u001b[39m\n",
      "\u001b[90m; ┌ @ promotion.jl:390 within `-` @ float.jl:384\u001b[39m\n",
      "   \u001b[0m%30 \u001b[0m= \u001b[96m\u001b[1mfsub\u001b[22m\u001b[39m \u001b[36mdouble\u001b[39m \u001b[33m1.000000e+00\u001b[39m\u001b[0m, \u001b[0m%29\n",
      "\u001b[90m; └\u001b[39m\n",
      "\u001b[90m; ┌ @ array.jl:925 within `getindex`\u001b[39m\n",
      "   \u001b[0m%31 \u001b[0m= \u001b[96m\u001b[1madd\u001b[22m\u001b[39m \u001b[95mnuw\u001b[39m \u001b[36mi64\u001b[39m \u001b[0m%13\u001b[0m, \u001b[0m%9\n",
      "   \u001b[0m%32 \u001b[0m= \u001b[96m\u001b[1mgetelementptr\u001b[22m\u001b[39m \u001b[95minbounds\u001b[39m \u001b[36mdouble\u001b[39m\u001b[0m, \u001b[36mdouble\u001b[39m\u001b[0m* \u001b[0m%21\u001b[0m, \u001b[36mi64\u001b[39m \u001b[0m%31\n",
      "   \u001b[0m%33 \u001b[0m= \u001b[96m\u001b[1mload\u001b[22m\u001b[39m \u001b[36mdouble\u001b[39m\u001b[0m, \u001b[36mdouble\u001b[39m\u001b[0m* \u001b[0m%32\u001b[0m, \u001b[95malign\u001b[39m \u001b[33m8\u001b[39m\n",
      "\u001b[90m; └\u001b[39m\n",
      "\u001b[90m;  @ In[26]:11 within `sindegmemo`\u001b[39m\n",
      "\u001b[90m; ┌ @ float.jl:385 within `*`\u001b[39m\n",
      "   \u001b[0m%34 \u001b[0m= \u001b[96m\u001b[1mfmul\u001b[22m\u001b[39m \u001b[36mdouble\u001b[39m \u001b[0m%30\u001b[0m, \u001b[0m%23\n",
      "   \u001b[0m%35 \u001b[0m= \u001b[96m\u001b[1mfmul\u001b[22m\u001b[39m \u001b[36mdouble\u001b[39m \u001b[0m%8\u001b[0m, \u001b[0m%33\n",
      "\u001b[90m; └\u001b[39m\n",
      "\u001b[90m; ┌ @ float.jl:383 within `+`\u001b[39m\n",
      "   \u001b[0m%36 \u001b[0m= \u001b[96m\u001b[1mfadd\u001b[22m\u001b[39m \u001b[36mdouble\u001b[39m \u001b[0m%34\u001b[0m, \u001b[0m%35\n",
      "   \u001b[96m\u001b[1mbr\u001b[22m\u001b[39m \u001b[36mlabel\u001b[39m \u001b[91m%common.ret\u001b[39m\n",
      "\u001b[90m; └\u001b[39m\n",
      "\u001b[33m}\u001b[39m\n"
     ]
    }
   ],
   "source": [
    "@code_llvm sindegmemo(m3, 60.0)"
   ]
  },
  {
   "cell_type": "markdown",
   "metadata": {},
   "source": [
    "Look at the code generated for bounds checking in the above code. Is there a way to improve upon those?"
   ]
  },
  {
   "cell_type": "code",
   "execution_count": 29,
   "metadata": {},
   "outputs": [
    {
     "data": {
      "text/plain": [
       "sindegmemo (generic function with 4 methods)"
      ]
     },
     "execution_count": 29,
     "metadata": {},
     "output_type": "execute_result"
    }
   ],
   "source": [
    "function sindegmemo(m::MemoLookupP, x::Float64)\n",
    "    s, lookup = step(m), m.lookup\n",
    "    i = 1\n",
    "    while x >= s\n",
    "        x -= s\n",
    "        i += 1\n",
    "    end\n",
    "    x, sini = deg2rad(x), @inbounds lookup[i, 1]\n",
    "    iszero(x) && return sini\n",
    "    sinx, cosx, cosi = x, 1 - x*x/2, @inbounds lookup[i, 2]\n",
    "    return sini*cosx + cosi*sinx\n",
    "end"
   ]
  },
  {
   "cell_type": "code",
   "execution_count": 30,
   "metadata": {},
   "outputs": [
    {
     "name": "stdout",
     "output_type": "stream",
     "text": [
      "  1.900 ns (0 allocations: 0 bytes)\n"
     ]
    },
    {
     "data": {
      "text/plain": [
       "0.8660254037844386"
      ]
     },
     "execution_count": 30,
     "metadata": {},
     "output_type": "execute_result"
    }
   ],
   "source": [
    "@btime sindegmemo($m3, 60.0)"
   ]
  },
  {
   "cell_type": "code",
   "execution_count": 31,
   "metadata": {},
   "outputs": [
    {
     "name": "stdout",
     "output_type": "stream",
     "text": [
      "  1.900 ns (0 allocations: 0 bytes)\n"
     ]
    },
    {
     "data": {
      "text/plain": [
       "0.3748975477461437"
      ]
     },
     "execution_count": 31,
     "metadata": {},
     "output_type": "execute_result"
    }
   ],
   "source": [
    "@btime sindegmemo($m3, 22.0)"
   ]
  },
  {
   "cell_type": "markdown",
   "metadata": {},
   "source": [
    "## 11.4 Profiling\n",
    "\n",
    "Profiling is done to search for a poorly performing code in a system. "
   ]
  },
  {
   "cell_type": "code",
   "execution_count": 32,
   "metadata": {},
   "outputs": [],
   "source": [
    "using Profile"
   ]
  },
  {
   "cell_type": "code",
   "execution_count": 33,
   "metadata": {},
   "outputs": [
    {
     "data": {
      "text/plain": [
       "profile_test (generic function with 1 method)"
      ]
     },
     "execution_count": 33,
     "metadata": {},
     "output_type": "execute_result"
    }
   ],
   "source": [
    "function profile_test(n)\n",
    "    for i = 1:n\n",
    "        A = randn(100,100,20)\n",
    "        m = maximum(A)\n",
    "        Am = mapslices(sum, A; dims=2)\n",
    "        B = A[:,:,5]\n",
    "        Bsort = mapslices(sort, B; dims=1)\n",
    "        b = rand(100)\n",
    "        C = B.*b\n",
    "    end\n",
    "end"
   ]
  },
  {
   "cell_type": "code",
   "execution_count": 34,
   "metadata": {},
   "outputs": [],
   "source": [
    "profile_test(1)\n",
    "@profile profile_test(100)"
   ]
  },
  {
   "cell_type": "code",
   "execution_count": 35,
   "metadata": {},
   "outputs": [
    {
     "name": "stdout",
     "output_type": "stream",
     "text": [
      "Overhead ╎ [+additional indent] Count File:Line; Function\n",
      "=========================================================\n",
      "  ╎123 @Base\\task.jl:484; (::IJulia.var\"#15#18\")()\n",
      "  ╎ 123 @IJulia\\src\\eventloop.jl:8; eventloop(socket::ZMQ.Socket)\n",
      "  ╎  123 @Base\\essentials.jl:726; invokelatest\n",
      "  ╎   123 @Base\\essentials.jl:729; #invokelatest#2\n",
      "  ╎    123 ...\\execute_request.jl:67; execute_request(socket::ZMQ.Soc...\n",
      "  ╎     123 ...\\SoftGlobalScope.jl:65; softscope_include_string(m::Mo...\n",
      "  ╎    ╎ 123 @Base\\loading.jl:1428; include_string(mapexpr::type...\n",
      " 2╎    ╎  123 @Base\\boot.jl:368; eval\n",
      "  ╎    ╎   34  In[33]:3; profile_test(n::Int64)\n",
      "  ╎    ╎    34  ...dom\\src\\normal.jl:244; randn\n",
      "  ╎    ╎     34  ...dom\\src\\normal.jl:238; randn\n",
      "  ╎    ╎    ╎ 16  ...om\\src\\normal.jl:223; randn!(rng::Random.TaskLoc...\n",
      "  ╎    ╎    ╎  16  ...om\\src\\Random.jl:268; rand!\n",
      "  ╎    ╎    ╎   16  ...m\\src\\Random.jl:268; rand!\n",
      "  ╎    ╎    ╎    16  ...\\XoshiroSimd.jl:298; rand!\n",
      "  ╎    ╎    ╎     16  ...\\XoshiroSimd.jl:140; xoshiro_bulk\n",
      "  ╎    ╎    ╎    ╎ 16  ...XoshiroSimd.jl:141; xoshiro_bulk\n",
      "  ╎    ╎    ╎    ╎  2   ...XoshiroSimd.jl:247; xoshiro_bulk_simd(rng:...\n",
      " 2╎    ╎    ╎    ╎   2   @Base\\int.jl:481; <=\n",
      "  ╎    ╎    ╎    ╎  1   ...XoshiroSimd.jl:248; xoshiro_bulk_simd(rng:...\n",
      " 1╎    ╎    ╎    ╎   1   ...XoshiroSimd.jl:70; _plus\n",
      "  ╎    ╎    ╎    ╎  7   ...XoshiroSimd.jl:255; xoshiro_bulk_simd(rng:...\n",
      " 7╎    ╎    ╎    ╎   7   ...XoshiroSimd.jl:54; _rotl45\n",
      "  ╎    ╎    ╎    ╎  6   ...XoshiroSimd.jl:256; xoshiro_bulk_simd(rng:...\n",
      "  ╎    ╎    ╎    ╎   6   @Base\\pointer.jl:118; unsafe_store!\n",
      " 6╎    ╎    ╎    ╎    6   @Base\\pointer.jl:118; unsafe_store!\n",
      "  ╎    ╎    ╎ 17  ...om\\src\\normal.jl:226; randn!(rng::Random.TaskLoc...\n",
      " 1╎    ╎    ╎  1   @Base\\array.jl:966; setindex!\n",
      "  ╎    ╎    ╎  4   ...om\\src\\normal.jl:61; _randn\n",
      "  ╎    ╎    ╎   4   @Base\\int.jl:501; >>\n",
      " 4╎    ╎    ╎    4   @Base\\int.jl:495; >>\n",
      "  ╎    ╎    ╎  3   ...om\\src\\normal.jl:62; _randn\n",
      "  ╎    ╎    ╎   3   @Base\\int.jl:991; &\n",
      " 3╎    ╎    ╎    3   @Base\\int.jl:340; &\n",
      "  ╎    ╎    ╎  6   ...om\\src\\normal.jl:63; _randn\n",
      " 1╎    ╎    ╎   1   @Base\\int.jl:85; -\n",
      "  ╎    ╎    ╎   3   @Base\\int.jl:585; rem\n",
      "  ╎    ╎    ╎    3   @Base\\operators.jl:282; !=\n",
      " 3╎    ╎    ╎     3   @Base\\bool.jl:35; !\n",
      "  ╎    ╎    ╎   2   @Base\\promotion.jl:389; *\n",
      " 2╎    ╎    ╎    2   @Base\\float.jl:385; *\n",
      "  ╎    ╎    ╎  1   ...om\\src\\normal.jl:64; _randn\n",
      "  ╎    ╎    ╎   1   @Base\\int.jl:486; <\n",
      " 1╎    ╎    ╎    1   @Base\\int.jl:480; <\n",
      "  ╎    ╎    ╎  2   ...om\\src\\normal.jl:65; _randn\n",
      "  ╎    ╎    ╎   1   ...om\\src\\normal.jl:78; randn_unlikely(rng::Rando...\n",
      " 1╎    ╎    ╎    1   @Base\\float.jl:383; +\n",
      "  ╎    ╎    ╎   1   ...om\\src\\normal.jl:81; randn_unlikely(rng::Rando...\n",
      "  ╎    ╎    ╎    1   ...m\\src\\normal.jl:52; randn(rng::Random.TaskLoc...\n",
      " 1╎    ╎    ╎     1   @Base\\int.jl:85; -\n",
      "  ╎    ╎    ╎ 1   ...om\\src\\normal.jl:227; randn!(rng::Random.TaskLoc...\n",
      "  ╎    ╎    ╎  1   @Base\\range.jl:883; iterate\n",
      " 1╎    ╎    ╎   1   @Base\\promotion.jl:477; ==\n",
      "  ╎    ╎   6   In[33]:4; profile_test(n::Int64)\n",
      "  ╎    ╎    6   @Base\\reducedim.jl:994; maximum\n",
      "  ╎    ╎     6   @Base\\reducedim.jl:994; #maximum#779\n",
      "  ╎    ╎    ╎ 6   @Base\\reducedim.jl:998; _maximum\n",
      "  ╎    ╎    ╎  6   @Base\\reducedim.jl:998; #_maximum#781\n",
      "  ╎    ╎    ╎   6   @Base\\reducedim.jl:999; _maximum\n",
      "  ╎    ╎    ╎    6   @Base\\reducedim.jl:999; #_maximum#782\n",
      "  ╎    ╎    ╎     6   @Base\\reducedim.jl:357; mapreduce\n",
      "  ╎    ╎    ╎    ╎ 6   ...e\\reducedim.jl:357; #mapreduce#764\n",
      "  ╎    ╎    ╎    ╎  6   ...e\\reducedim.jl:365; _mapreduce_dim\n",
      "  ╎    ╎    ╎    ╎   6   @Base\\reduce.jl:434; _mapreduce(f::typeof(i...\n",
      "  ╎    ╎    ╎    ╎    6   @Base\\reduce.jl:642; mapreduce_impl(f::typ...\n",
      "  ╎    ╎    ╎    ╎     6   @Base\\range.jl:883; iterate\n",
      " 6╎    ╎    ╎    ╎    ╎ 6   ...promotion.jl:477; ==\n",
      "  ╎    ╎   67  In[33]:5; profile_test(n::Int64)\n",
      "  ╎    ╎    67  ...\\abstractarray.jl:2828; mapslices##kw\n",
      "  ╎    ╎     67  ...abstractarray.jl:2886; mapslices(f::typeof(sum), ...\n",
      " 7╎    ╎    ╎ 13  ...abstractarray.jl:2895; inner_mapslices!(safe_for...\n",
      "  ╎    ╎    ╎  6   ...tidimensional.jl:911; _unsafe_getindex!(::Vecto...\n",
      "  ╎    ╎    ╎   6   ...idimensional.jl:898; macro expansion\n",
      "  ╎    ╎    ╎    5   @Base\\cartesian.jl:64; macro expansion\n",
      "  ╎    ╎    ╎     3   ...idimensional.jl:903; macro expansion\n",
      " 3╎    ╎    ╎    ╎ 3   @Base\\array.jl:966; setindex!\n",
      "  ╎    ╎    ╎     2   ...idimensional.jl:904; macro expansion\n",
      "  ╎    ╎    ╎    ╎ 2   @Base\\range.jl:883; iterate\n",
      " 1╎    ╎    ╎    ╎  2   ...e\\promotion.jl:477; ==\n",
      "  ╎    ╎    ╎    1   @Base\\cartesian.jl:66; macro expansion\n",
      "  ╎    ╎    ╎     1   @Base\\indices.jl:367; iterate\n",
      "  ╎    ╎    ╎    ╎ 1   @Base\\range.jl:883; iterate\n",
      " 1╎    ╎    ╎    ╎  1   ...e\\promotion.jl:477; ==\n",
      "10╎    ╎    ╎ 54  ...abstractarray.jl:2896; inner_mapslices!(safe_for...\n",
      "20╎    ╎    ╎  42  ...bstractarray.jl:2915; concatenate_setindex!(::A...\n",
      " 1╎    ╎    ╎   22  @Base\\broadcast.jl:1201; dotview(::Array{Float64,...\n",
      "21╎    ╎    ╎    21  @Base\\views.jl:146; maybeview(::Array{Float6...\n",
      "  ╎    ╎    ╎  2   @Base\\reducedim.jl:994; sum\n",
      "  ╎    ╎    ╎   2   @Base\\reducedim.jl:994; #sum#771\n",
      "  ╎    ╎    ╎    2   @Base\\reducedim.jl:998; _sum\n",
      "  ╎    ╎    ╎     2   @Base\\reducedim.jl:998; #_sum#773\n",
      "  ╎    ╎    ╎    ╎ 2   ...e\\reducedim.jl:999; _sum\n",
      "  ╎    ╎    ╎    ╎  2   ...e\\reducedim.jl:999; #_sum#774\n",
      "  ╎    ╎    ╎    ╎   2   ...\\reducedim.jl:357; mapreduce\n",
      "  ╎    ╎    ╎    ╎    2   ...\\reducedim.jl:357; #mapreduce#764\n",
      "  ╎    ╎    ╎    ╎     2   ...\\reducedim.jl:365; _mapreduce_dim\n",
      "  ╎    ╎    ╎    ╎    ╎ 2   @Base\\reduce.jl:434; _mapreduce\n",
      "  ╎    ╎    ╎    ╎    ╎  2   @Base\\reduce.jl:264; mapreduce_impl\n",
      "  ╎    ╎    ╎    ╎    ╎   1   ...e\\reduce.jl:250; mapreduce_impl(f::t...\n",
      " 1╎    ╎    ╎    ╎    ╎    1   ...simdloop.jl:75; macro expansion\n",
      " 1╎    ╎    ╎    ╎    ╎   1   ...simdloop.jl:0; mapreduce_impl(f::t...\n",
      "  ╎    ╎   1   In[33]:6; profile_test(n::Int64)\n",
      "  ╎    ╎    1   ...\\abstractarray.jl:1241; getindex\n",
      "  ╎    ╎     1   ...ltidimensional.jl:875; _getindex\n",
      "  ╎    ╎    ╎ 1   ...tidimensional.jl:889; _unsafe_getindex(::IndexLi...\n",
      "  ╎    ╎    ╎  1   ...tidimensional.jl:911; _unsafe_getindex!\n",
      "  ╎    ╎    ╎   1   ...idimensional.jl:898; macro expansion\n",
      "  ╎    ╎    ╎    1   @Base\\cartesian.jl:66; macro expansion\n",
      "  ╎    ╎    ╎     1   @Base\\indices.jl:367; iterate\n",
      "  ╎    ╎    ╎    ╎ 1   @Base\\range.jl:883; iterate\n",
      " 1╎    ╎    ╎    ╎  1   ...e\\promotion.jl:477; ==\n",
      "  ╎    ╎   13  In[33]:7; profile_test(n::Int64)\n",
      "  ╎    ╎    13  ...\\abstractarray.jl:2828; mapslices##kw\n",
      "  ╎    ╎     13  ...abstractarray.jl:2886; mapslices(f::typeof(sort),...\n",
      " 1╎    ╎    ╎ 1   ...abstractarray.jl:2895; inner_mapslices!(safe_for...\n",
      "  ╎    ╎    ╎ 12  ...abstractarray.jl:2896; inner_mapslices!(safe_for...\n",
      "  ╎    ╎    ╎  12  @Base\\sort.jl:768; sort\n",
      "  ╎    ╎    ╎   12  @Base\\sort.jl:768; #sort#9\n",
      "  ╎    ╎    ╎    2   ...bstractarray.jl:1152; copymutable\n",
      "  ╎    ╎    ╎     2   @Base\\array.jl:346; copyto!\n",
      "  ╎    ╎    ╎    ╎ 2   @Base\\array.jl:322; copyto!\n",
      "  ╎    ╎    ╎    ╎  2   @Base\\array.jl:331; _copyto_impl!(dest::Ve...\n",
      " 2╎    ╎    ╎    ╎   2   @Base\\array.jl:289; unsafe_copyto!\n",
      "  ╎    ╎    ╎    10  @Base\\sort.jl:703; sort!\n",
      "  ╎    ╎    ╎     10  @Base\\sort.jl:721; #sort!#8\n",
      " 1╎    ╎    ╎    ╎ 10  @Base\\sort.jl:1236; sort!\n",
      "  ╎    ╎    ╎    ╎  1   @Base\\sort.jl:1222; fpsort!(v::Vector{Floa...\n",
      " 1╎    ╎    ╎    ╎   1   @Base\\int.jl:481; <=\n",
      "  ╎    ╎    ╎    ╎  4   @Base\\sort.jl:1227; fpsort!(v::Vector{Floa...\n",
      "  ╎    ╎    ╎    ╎   2   @Base\\sort.jl:570; sort!(v::Vector{Float6...\n",
      "  ╎    ╎    ╎    ╎    1   @Base\\sort.jl:507; sort!(v::Vector{Float...\n",
      " 1╎    ╎    ╎    ╎     1   @Base\\array.jl:966; setindex!\n",
      "  ╎    ╎    ╎    ╎    1   @Base\\sort.jl:511; sort!(v::Vector{Float...\n",
      " 1╎    ╎    ╎    ╎     1   @Base\\range.jl:883; iterate\n",
      "  ╎    ╎    ╎    ╎   1   @Base\\sort.jl:571; sort!(v::Vector{Float6...\n",
      " 1╎    ╎    ╎    ╎    1   @Base\\sort.jl:549; partition!(v::Vector{...\n",
      "  ╎    ╎    ╎    ╎   1   @Base\\sort.jl:576; sort!(v::Vector{Float6...\n",
      "  ╎    ╎    ╎    ╎    1   @Base\\sort.jl:570; sort!(v::Vector{Float...\n",
      "  ╎    ╎    ╎    ╎     1   @Base\\sort.jl:510; sort!(v::Vector{Float...\n",
      " 1╎    ╎    ╎    ╎    ╎ 1   @Base\\array.jl:966; setindex!\n",
      "  ╎    ╎    ╎    ╎  4   @Base\\sort.jl:1228; fpsort!(v::Vector{Floa...\n",
      "  ╎    ╎    ╎    ╎   2   @Base\\sort.jl:571; sort!(v::Vector{Float6...\n",
      "  ╎    ╎    ╎    ╎    1   @Base\\sort.jl:556; partition!(v::Vector{...\n",
      " 1╎    ╎    ╎    ╎     1   @Base\\array.jl:924; getindex\n",
      "  ╎    ╎    ╎    ╎    1   @Base\\sort.jl:560; partition!(v::Vector{...\n",
      " 1╎    ╎    ╎    ╎     1   @Base\\array.jl:924; getindex\n",
      "  ╎    ╎    ╎    ╎   1   @Base\\sort.jl:576; sort!(v::Vector{Float6...\n",
      "  ╎    ╎    ╎    ╎    1   @Base\\sort.jl:570; sort!(v::Vector{Float...\n",
      "  ╎    ╎    ╎    ╎     1   @Base\\sort.jl:511; sort!(v::Vector{Float...\n",
      " 1╎    ╎    ╎    ╎    ╎ 1   @Base\\range.jl:883; iterate\n",
      "  ╎    ╎    ╎    ╎   1   @Base\\sort.jl:579; sort!(v::Vector{Float6...\n",
      "  ╎    ╎    ╎    ╎    1   @Base\\sort.jl:570; sort!(v::Vector{Float...\n",
      "  ╎    ╎    ╎    ╎     1   @Base\\sort.jl:510; sort!(v::Vector{Float...\n",
      " 1╎    ╎    ╎    ╎    ╎ 1   @Base\\array.jl:966; setindex!\n",
      "Total snapshots: 124. Utilization: 100% across all threads and tasks. Use the `groupby` kwarg to break down by thread and/or task\n"
     ]
    }
   ],
   "source": [
    "Profile.print()"
   ]
  },
  {
   "cell_type": "code",
   "execution_count": 36,
   "metadata": {},
   "outputs": [],
   "source": [
    "Profile.clear()"
   ]
  },
  {
   "cell_type": "code",
   "execution_count": 37,
   "metadata": {},
   "outputs": [
    {
     "name": "stderr",
     "output_type": "stream",
     "text": [
      "┌ Info: Precompiling ProfileView [c46f51b8-102a-5cf2-8d2c-8597cb0e0da7]\n",
      "└ @ Base loading.jl:1662\n"
     ]
    }
   ],
   "source": [
    "using ProfileView"
   ]
  },
  {
   "cell_type": "code",
   "execution_count": 38,
   "metadata": {},
   "outputs": [
    {
     "data": {
      "text/plain": [
       "Gtk.GtkWindowLeaf(name=\"\", parent, width-request=-1, height-request=-1, visible=TRUE, sensitive=TRUE, app-paintable=FALSE, can-focus=FALSE, has-focus=FALSE, is-focus=FALSE, focus-on-click=TRUE, can-default=FALSE, has-default=FALSE, receives-default=FALSE, composite-child=FALSE, style, events=0, no-show-all=FALSE, has-tooltip=FALSE, tooltip-markup=NULL, tooltip-text=NULL, window, opacity=1.000000, double-buffered, halign=GTK_ALIGN_FILL, valign=GTK_ALIGN_FILL, margin-left, margin-right, margin-start=0, margin-end=0, margin-top=0, margin-bottom=0, margin=0, hexpand=FALSE, vexpand=FALSE, hexpand-set=FALSE, vexpand-set=FALSE, expand=FALSE, scale-factor=1, border-width=0, resize-mode, child, type=GTK_WINDOW_TOPLEVEL, title=\"Profile\", role=NULL, resizable=TRUE, modal=FALSE, window-position=GTK_WIN_POS_NONE, default-width=800, default-height=600, destroy-with-parent=FALSE, hide-titlebar-when-maximized=FALSE, icon, icon-name=NULL, screen, type-hint=GDK_WINDOW_TYPE_HINT_NORMAL, skip-taskbar-hint=FALSE, skip-pager-hint=FALSE, urgency-hint=FALSE, accept-focus=TRUE, focus-on-map=TRUE, decorated=TRUE, deletable=TRUE, gravity=GDK_GRAVITY_NORTH_WEST, transient-for, attached-to, has-resize-grip, resize-grip-visible, application, is-active=TRUE, has-toplevel-focus=TRUE, startup-id, mnemonics-visible=FALSE, focus-visible=FALSE, is-maximized=FALSE)"
      ]
     },
     "execution_count": 38,
     "metadata": {},
     "output_type": "execute_result"
    }
   ],
   "source": [
    "@profview profile_test(100)"
   ]
  },
  {
   "cell_type": "markdown",
   "metadata": {},
   "source": [
    "## 11.5 Guidance for High Performance Code\n",
    "\n",
    "In chapter-9, we used some general functional programming patterns to address some standard programmimng challenges. Here we shall look at some patterns that help address some performance bottlenecks in code.    \n",
    "\n",
    "### Memoization\n",
    "\n",
    "Using cache can help reduce computations as previous computations can be reused.  "
   ]
  },
  {
   "cell_type": "code",
   "execution_count": 39,
   "metadata": {},
   "outputs": [
    {
     "data": {
      "text/plain": [
       "fib (generic function with 1 method)"
      ]
     },
     "execution_count": 39,
     "metadata": {},
     "output_type": "execute_result"
    }
   ],
   "source": [
    "using BenchmarkTools\n",
    "fib(n) = n < 3 ? 1 : fib(n-1) + fib(n-2)"
   ]
  },
  {
   "cell_type": "code",
   "execution_count": 40,
   "metadata": {},
   "outputs": [
    {
     "data": {
      "text/plain": [
       "fib (generic function with 1 method)"
      ]
     },
     "execution_count": 40,
     "metadata": {},
     "output_type": "execute_result"
    }
   ],
   "source": [
    "function fib(n)\n",
    "    if n < 3\n",
    "        return (result=1, calls=1)\n",
    "    else\n",
    "        r1, c1 = fib(n-2)\n",
    "        r2, c2 = fib(n-1)\n",
    "        return (result=r1+r2, calls=1+c1+c2)\n",
    "    end\n",
    "end"
   ]
  },
  {
   "cell_type": "code",
   "execution_count": 41,
   "metadata": {},
   "outputs": [
    {
     "name": "stdout",
     "output_type": "stream",
     "text": [
      "n:1\tresult: 1\tcalls: 1\n",
      "n:2\tresult: 1\tcalls: 1\n",
      "n:3\tresult: 2\tcalls: 3\n",
      "n:4\tresult: 3\tcalls: 5\n",
      "n:5\tresult: 5\tcalls: 9\n",
      "n:6\tresult: 8\tcalls: 15\n",
      "n:7\tresult: 13\tcalls: 25\n",
      "n:8\tresult: 21\tcalls: 41\n",
      "n:9\tresult: 34\tcalls: 67\n",
      "n:10\tresult: 55\tcalls: 109\n"
     ]
    }
   ],
   "source": [
    "for i = 1:10\n",
    "    r, c = fib(i)\n",
    "    println(\"n:\", i, \"\\tresult: \", r, \"\\tcalls: \", c)\n",
    "end"
   ]
  },
  {
   "cell_type": "code",
   "execution_count": 42,
   "metadata": {},
   "outputs": [
    {
     "name": "stdout",
     "output_type": "stream",
     "text": [
      "  19.700 μs (0 allocations: 0 bytes)\n"
     ]
    },
    {
     "data": {
      "text/plain": [
       "(result = 6765, calls = 13529)"
      ]
     },
     "execution_count": 42,
     "metadata": {},
     "output_type": "execute_result"
    }
   ],
   "source": [
    "@btime fib(20)"
   ]
  },
  {
   "cell_type": "code",
   "execution_count": 43,
   "metadata": {},
   "outputs": [
    {
     "data": {
      "text/plain": [
       "Dict{Any, Any}()"
      ]
     },
     "execution_count": 43,
     "metadata": {},
     "output_type": "execute_result"
    }
   ],
   "source": [
    "const mem = Dict()"
   ]
  },
  {
   "cell_type": "code",
   "execution_count": 44,
   "metadata": {},
   "outputs": [
    {
     "data": {
      "text/plain": [
       "fib (generic function with 1 method)"
      ]
     },
     "execution_count": 44,
     "metadata": {},
     "output_type": "execute_result"
    }
   ],
   "source": [
    "function fib(n)\n",
    "    haskey(mem, n) && return mem[n]\n",
    "    println(\"Calling fib: \", n)\n",
    "    res = n < 3 ? 1 : fib(n-1) + fib(n-2)\n",
    "    mem[n] = res\n",
    "    return res\n",
    "end\n",
    "        "
   ]
  },
  {
   "cell_type": "code",
   "execution_count": 45,
   "metadata": {},
   "outputs": [
    {
     "name": "stdout",
     "output_type": "stream",
     "text": [
      "Calling fib: 5\n",
      "Calling fib: 4\n",
      "Calling fib: 3\n",
      "Calling fib: 2\n",
      "Calling fib: 1\n"
     ]
    },
    {
     "data": {
      "text/plain": [
       "5"
      ]
     },
     "execution_count": 45,
     "metadata": {},
     "output_type": "execute_result"
    }
   ],
   "source": [
    "fib(5)"
   ]
  },
  {
   "cell_type": "code",
   "execution_count": 46,
   "metadata": {},
   "outputs": [
    {
     "name": "stdout",
     "output_type": "stream",
     "text": [
      "Calling fib: 20\n",
      "Calling fib: 19\n",
      "Calling fib: 18\n",
      "Calling fib: 17\n",
      "Calling fib: 16\n",
      "Calling fib: 15\n",
      "Calling fib: 14\n",
      "Calling fib: 13\n",
      "Calling fib: 12\n",
      "Calling fib: 11\n",
      "Calling fib: 10\n",
      "Calling fib: 9\n",
      "Calling fib: 8\n",
      "Calling fib: 7\n",
      "Calling fib: 6\n",
      "  17.836 ns (0 allocations: 0 bytes)\n"
     ]
    },
    {
     "data": {
      "text/plain": [
       "6765"
      ]
     },
     "execution_count": 46,
     "metadata": {},
     "output_type": "execute_result"
    }
   ],
   "source": [
    "@btime fib(20)"
   ]
  },
  {
   "cell_type": "code",
   "execution_count": 47,
   "metadata": {},
   "outputs": [
    {
     "data": {
      "text/plain": [
       "fib (generic function with 1 method)"
      ]
     },
     "execution_count": 47,
     "metadata": {},
     "output_type": "execute_result"
    }
   ],
   "source": [
    "fib(n) = n < 3 ? 1 : fib(n-1) + fib(n-2)"
   ]
  },
  {
   "cell_type": "code",
   "execution_count": 48,
   "metadata": {},
   "outputs": [
    {
     "data": {
      "text/plain": [
       "memoize (generic function with 1 method)"
      ]
     },
     "execution_count": 48,
     "metadata": {},
     "output_type": "execute_result"
    }
   ],
   "source": [
    "function memoize(f)\n",
    "    memo = Dict()\n",
    "    (args...; kwargs...) -> begin\n",
    "        x = (args, kwargs)\n",
    "        haskey(memo, x) && return memo[x]\n",
    "        v = f(args...; kwargs...)\n",
    "        memo[x] = v\n",
    "        return v\n",
    "    end\n",
    "end"
   ]
  },
  {
   "cell_type": "code",
   "execution_count": 49,
   "metadata": {},
   "outputs": [
    {
     "data": {
      "text/plain": [
       "#17 (generic function with 1 method)"
      ]
     },
     "execution_count": 49,
     "metadata": {},
     "output_type": "execute_result"
    }
   ],
   "source": [
    "fib! = memoize(fib)"
   ]
  },
  {
   "cell_type": "code",
   "execution_count": 50,
   "metadata": {},
   "outputs": [
    {
     "name": "stdout",
     "output_type": "stream",
     "text": [
      "  32.362 ns (0 allocations: 0 bytes)\n"
     ]
    },
    {
     "data": {
      "text/plain": [
       "102334155"
      ]
     },
     "execution_count": 50,
     "metadata": {},
     "output_type": "execute_result"
    }
   ],
   "source": [
    "@btime fib!(40)"
   ]
  },
  {
   "cell_type": "code",
   "execution_count": 51,
   "metadata": {},
   "outputs": [
    {
     "name": "stdout",
     "output_type": "stream",
     "text": [
      "  239.327 ms (0 allocations: 0 bytes)\n"
     ]
    },
    {
     "data": {
      "text/plain": [
       "102334155"
      ]
     },
     "execution_count": 51,
     "metadata": {},
     "output_type": "execute_result"
    }
   ],
   "source": [
    "@btime fib(40)"
   ]
  },
  {
   "cell_type": "markdown",
   "metadata": {},
   "source": [
    "### Global Variables\n",
    "\n",
    "The Julia global variables cannot have a declared type. Hence, the performance can be significantly affected when such variables are in use. "
   ]
  },
  {
   "cell_type": "code",
   "execution_count": 52,
   "metadata": {},
   "outputs": [
    {
     "data": {
      "text/plain": [
       "3"
      ]
     },
     "execution_count": 52,
     "metadata": {},
     "output_type": "execute_result"
    }
   ],
   "source": [
    "GLOBAL_VAR = 3"
   ]
  },
  {
   "cell_type": "code",
   "execution_count": 53,
   "metadata": {},
   "outputs": [
    {
     "data": {
      "text/plain": [
       "add_to_global (generic function with 1 method)"
      ]
     },
     "execution_count": 53,
     "metadata": {},
     "output_type": "execute_result"
    }
   ],
   "source": [
    "function add_to_global(x) \n",
    "    x + GLOBAL_VAR\n",
    "end"
   ]
  },
  {
   "cell_type": "code",
   "execution_count": 54,
   "metadata": {},
   "outputs": [
    {
     "name": "stdout",
     "output_type": "stream",
     "text": [
      "  17.635 ns (0 allocations: 0 bytes)\n"
     ]
    },
    {
     "data": {
      "text/plain": [
       "13"
      ]
     },
     "execution_count": 54,
     "metadata": {},
     "output_type": "execute_result"
    }
   ],
   "source": [
    "@btime add_to_global(10)"
   ]
  },
  {
   "cell_type": "markdown",
   "metadata": {},
   "source": [
    "Contrast this to a simple addition operation. The global variables are inefficient as they are not type safe. "
   ]
  },
  {
   "cell_type": "code",
   "execution_count": 55,
   "metadata": {},
   "outputs": [
    {
     "name": "stdout",
     "output_type": "stream",
     "text": [
      "  1.700 ns (0 allocations: 0 bytes)\n"
     ]
    },
    {
     "data": {
      "text/plain": [
       "13"
      ]
     },
     "execution_count": 55,
     "metadata": {},
     "output_type": "execute_result"
    }
   ],
   "source": [
    "@btime 10 + $GLOBAL_VAR"
   ]
  },
  {
   "cell_type": "markdown",
   "metadata": {},
   "source": [
    "When we use a const instead of a variable, we see significant performance gain. "
   ]
  },
  {
   "cell_type": "code",
   "execution_count": 56,
   "metadata": {},
   "outputs": [
    {
     "name": "stdout",
     "output_type": "stream",
     "text": [
      "  1.000 ns (0 allocations: 0 bytes)\n"
     ]
    },
    {
     "data": {
      "text/plain": [
       "23"
      ]
     },
     "execution_count": 56,
     "metadata": {},
     "output_type": "execute_result"
    }
   ],
   "source": [
    "const GLOBAL_CONST = 20\n",
    "add_to_global_const(x) = x + GLOBAL_CONST\n",
    "@btime add_to_global_const(3)"
   ]
  },
  {
   "cell_type": "markdown",
   "metadata": {},
   "source": [
    "Here 20 as a constant is used in the addition operation. "
   ]
  },
  {
   "cell_type": "code",
   "execution_count": 57,
   "metadata": {},
   "outputs": [
    {
     "name": "stdout",
     "output_type": "stream",
     "text": [
      "\u001b[90m;  @ In[56]:2 within `add_to_global_const`\u001b[39m\n",
      "\u001b[90m; Function Attrs: uwtable\u001b[39m\n",
      "\u001b[95mdefine\u001b[39m \u001b[36mi64\u001b[39m \u001b[93m@julia_add_to_global_const_6680\u001b[39m\u001b[33m(\u001b[39m\u001b[36mi64\u001b[39m \u001b[95msignext\u001b[39m \u001b[0m%0\u001b[33m)\u001b[39m \u001b[0m#0 \u001b[33m{\u001b[39m\n",
      "\u001b[91mtop:\u001b[39m\n",
      "\u001b[90m; ┌ @ int.jl:87 within `+`\u001b[39m\n",
      "   \u001b[0m%1 \u001b[0m= \u001b[96m\u001b[1madd\u001b[22m\u001b[39m \u001b[36mi64\u001b[39m \u001b[0m%0\u001b[0m, \u001b[33m20\u001b[39m\n",
      "\u001b[90m; └\u001b[39m\n",
      "  \u001b[96m\u001b[1mret\u001b[22m\u001b[39m \u001b[36mi64\u001b[39m \u001b[0m%1\n",
      "\u001b[33m}\u001b[39m\n"
     ]
    }
   ],
   "source": [
    "@code_llvm add_to_global_const(3)"
   ]
  },
  {
   "cell_type": "code",
   "execution_count": 58,
   "metadata": {},
   "outputs": [
    {
     "data": {
      "text/plain": [
       "Base.RefValue{Int64}(10)"
      ]
     },
     "execution_count": 58,
     "metadata": {},
     "output_type": "execute_result"
    }
   ],
   "source": [
    "const GLOBAL_REF = Ref(10)"
   ]
  },
  {
   "cell_type": "code",
   "execution_count": 59,
   "metadata": {},
   "outputs": [
    {
     "data": {
      "text/plain": [
       "add_to_global_ref (generic function with 1 method)"
      ]
     },
     "execution_count": 59,
     "metadata": {},
     "output_type": "execute_result"
    }
   ],
   "source": [
    "add_to_global_ref(x) = x + GLOBAL_REF[]"
   ]
  },
  {
   "cell_type": "markdown",
   "metadata": {},
   "source": [
    "The code has two parts. Load the value from the memory to a local volatile memory or register. Perform the addition operation in the register. "
   ]
  },
  {
   "cell_type": "code",
   "execution_count": 60,
   "metadata": {},
   "outputs": [
    {
     "name": "stdout",
     "output_type": "stream",
     "text": [
      "\u001b[90m;  @ In[59]:1 within `add_to_global_ref`\u001b[39m\n",
      "\u001b[90m; Function Attrs: uwtable\u001b[39m\n",
      "\u001b[95mdefine\u001b[39m \u001b[36mi64\u001b[39m \u001b[93m@julia_add_to_global_ref_6759\u001b[39m\u001b[33m(\u001b[39m\u001b[36mi64\u001b[39m \u001b[95msignext\u001b[39m \u001b[0m%0\u001b[33m)\u001b[39m \u001b[0m#0 \u001b[33m{\u001b[39m\n",
      "\u001b[91mtop:\u001b[39m\n",
      "\u001b[90m; ┌ @ refvalue.jl:56 within `getindex`\u001b[39m\n",
      "\u001b[90m; │┌ @ Base.jl:38 within `getproperty`\u001b[39m\n",
      "    \u001b[0m%1 \u001b[0m= \u001b[96m\u001b[1mload\u001b[22m\u001b[39m \u001b[36mi64\u001b[39m\u001b[0m, \u001b[36mi64\u001b[39m\u001b[0m* \u001b[95minttoptr\u001b[39m \u001b[33m(\u001b[39m\u001b[36mi64\u001b[39m \u001b[33m216861664\u001b[39m \u001b[95mto\u001b[39m \u001b[36mi64\u001b[39m\u001b[0m*\u001b[33m)\u001b[39m\u001b[0m, \u001b[95malign\u001b[39m \u001b[33m32\u001b[39m\n",
      "\u001b[90m; └└\u001b[39m\n",
      "\u001b[90m; ┌ @ int.jl:87 within `+`\u001b[39m\n",
      "   \u001b[0m%2 \u001b[0m= \u001b[96m\u001b[1madd\u001b[22m\u001b[39m \u001b[36mi64\u001b[39m \u001b[0m%1\u001b[0m, \u001b[0m%0\n",
      "\u001b[90m; └\u001b[39m\n",
      "  \u001b[96m\u001b[1mret\u001b[22m\u001b[39m \u001b[36mi64\u001b[39m \u001b[0m%2\n",
      "\u001b[33m}\u001b[39m\n"
     ]
    }
   ],
   "source": [
    "@code_llvm add_to_global_ref(3)"
   ]
  },
  {
   "cell_type": "code",
   "execution_count": 61,
   "metadata": {},
   "outputs": [
    {
     "data": {
      "text/plain": [
       "add_to_global_ref (generic function with 1 method)"
      ]
     },
     "execution_count": 61,
     "metadata": {},
     "output_type": "execute_result"
    }
   ],
   "source": [
    "add_to_global_ref(x) = x + GLOBAL_REF[]"
   ]
  },
  {
   "cell_type": "code",
   "execution_count": 62,
   "metadata": {},
   "outputs": [
    {
     "name": "stdout",
     "output_type": "stream",
     "text": [
      "  1.700 ns (0 allocations: 0 bytes)\n"
     ]
    },
    {
     "data": {
      "text/plain": [
       "13"
      ]
     },
     "execution_count": 62,
     "metadata": {},
     "output_type": "execute_result"
    }
   ],
   "source": [
    "@btime add_to_global_ref(3)"
   ]
  },
  {
   "cell_type": "markdown",
   "metadata": {},
   "source": [
    "You can easily wrap a `Ref` inside an accessor pattern as well. "
   ]
  },
  {
   "cell_type": "code",
   "execution_count": 63,
   "metadata": {},
   "outputs": [
    {
     "data": {
      "text/plain": [
       "X (generic function with 2 methods)"
      ]
     },
     "execution_count": 63,
     "metadata": {},
     "output_type": "execute_result"
    }
   ],
   "source": [
    "let _x = Ref(5)\n",
    "    global X() = _x[]\n",
    "    global X(y) = (_x[] = y)\n",
    "end"
   ]
  },
  {
   "cell_type": "code",
   "execution_count": 64,
   "metadata": {},
   "outputs": [
    {
     "name": "stdout",
     "output_type": "stream",
     "text": [
      "  1.700 ns (0 allocations: 0 bytes)\n"
     ]
    },
    {
     "data": {
      "text/plain": [
       "5"
      ]
     },
     "execution_count": 64,
     "metadata": {},
     "output_type": "execute_result"
    }
   ],
   "source": [
    "@btime X()"
   ]
  },
  {
   "cell_type": "code",
   "execution_count": 65,
   "metadata": {},
   "outputs": [
    {
     "name": "stdout",
     "output_type": "stream",
     "text": [
      "  1.700 ns (0 allocations: 0 bytes)\n"
     ]
    },
    {
     "data": {
      "text/plain": [
       "10"
      ]
     },
     "execution_count": 65,
     "metadata": {},
     "output_type": "execute_result"
    }
   ],
   "source": [
    "@btime X(10)"
   ]
  },
  {
   "cell_type": "markdown",
   "metadata": {},
   "source": [
    "## 11.6 Conclusion"
   ]
  },
  {
   "cell_type": "markdown",
   "metadata": {},
   "source": [
    "## Exercises"
   ]
  }
 ],
 "metadata": {
  "@webio": {
   "lastCommId": null,
   "lastKernelId": null
  },
  "kernelspec": {
   "display_name": "Julia 1.8.0",
   "language": "julia",
   "name": "julia-1.8"
  },
  "language_info": {
   "file_extension": ".jl",
   "mimetype": "application/julia",
   "name": "julia",
   "version": "1.8.0"
  }
 },
 "nbformat": 4,
 "nbformat_minor": 4
}
